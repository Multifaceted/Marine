{
 "cells": [
  {
   "cell_type": "code",
   "execution_count": 1,
   "metadata": {},
   "outputs": [],
   "source": [
    "import pandas as pd\n",
    "import numpy as np\n",
    "import seaborn as sns\n",
    "import matplotlib.pyplot as plt\n",
    "import os\n",
    "import re\n",
    "import statsmodels.api as sm\n",
    "from chart_studio import plotly\n",
    "import chart_studio.plotly as py\n",
    "import plotly.figure_factory as ff\n",
    "from plotly.figure_factory import create_gantt\n",
    "import datetime\n",
    "\n"
   ]
  },
  {
   "cell_type": "markdown",
   "metadata": {},
   "source": [
    "### Load Data"
   ]
  },
  {
   "cell_type": "code",
   "execution_count": 2,
   "metadata": {},
   "outputs": [],
   "source": [
    "data_path = \"data\"\n",
    "\n",
    "file_Conduvibilita = \"TBaia_01m-Conducibilita.txt\"\n",
    "file_CTD = \"TBaia_01m-CTD.txt\"\n",
    "file_Ossigeno = \"TBaia_01m-Ossigeno.txt\"\n",
    "file_Winkler = \"TBaia_01m-Winkler.txt\""
   ]
  },
  {
   "cell_type": "code",
   "execution_count": 3,
   "metadata": {},
   "outputs": [],
   "source": [
    "def convertTime(x):\n",
    "    try:\n",
    "        return pd.to_datetime(x[\"Data\"] + \"/\" + x[\"Ora(UTC)\"], format=\"%d/%m/%Y/%H:%M:%S\")\n",
    "    except:\n",
    "        return -1\n",
    "\n",
    "################### Conducibilita ###################\n",
    "Conducibilita_raw_df = pd.read_csv(os.path.join(data_path, file_Conduvibilita), encoding='cp1252', header=None, skiprows=11)\n",
    "Conducibilita_raw_df.iloc[0, 0] = re.sub(\"#\", \"\", Conducibilita_raw_df.iloc[0, 0]).strip()\n",
    "Conducibilita_raw_df = Conducibilita_raw_df.squeeze().str.strip().apply(lambda x: re.sub(\"\\s+\", \",\", x)).str.split(\",\", expand=True)\n",
    "# colNames = Conducibilita_raw_df.iloc[0, :].apply(lambda x: re.split(r\"[(\\\\)\\'_]\", x)[0])\n",
    "colNames = Conducibilita_raw_df.iloc[0, :]\n",
    "\n",
    "Conducibilita_raw_df.columns = colNames\n",
    "Conducibilita_raw_df = Conducibilita_raw_df.iloc[1:, :]\n",
    "\n",
    "for j in range(2, Conducibilita_raw_df.shape[1]):\n",
    "    Conducibilita_raw_df.iloc[:, j] = Conducibilita_raw_df.iloc[:, j].astype(np.float32)\n",
    "\n",
    "Conducibilita_raw_df[\"Time\"] = Conducibilita_raw_df[[\"Data\", \"Ora(UTC)\"]].apply(lambda x: convertTime(x), axis=1)\n",
    "Conducibilita_raw_df[\"Data\"] = Conducibilita_raw_df[\"Time\"].dt.date\n",
    "Conducibilita_raw_df[\"Ora(UTC)\"] =  Conducibilita_raw_df[\"Time\"].dt.time\n",
    "\n",
    "################### CTD ###################\n",
    "\n",
    "CTD_raw_df = pd.read_csv(os.path.join(data_path, file_CTD), encoding='cp1252', header=None, skiprows=15)\n",
    "CTD_raw_df.iloc[0, 0] = re.sub(\"#\", \"\", CTD_raw_df.iloc[0, 0]).strip()\n",
    "CTD_raw_df = CTD_raw_df.squeeze().str.strip().apply(lambda x: re.sub(\"\\s+\", \",\", x)).str.split(\",\", expand=True)\n",
    "# colNames = CTD_raw_df.iloc[0, :].apply(lambda x: re.split(r\"[(\\\\)\\'_]\", x)[0])\n",
    "colNames = CTD_raw_df.iloc[0, :]\n",
    "\n",
    "CTD_raw_df.columns = colNames\n",
    "CTD_raw_df = CTD_raw_df.iloc[1:, :]\n",
    "\n",
    "for j in range(2, CTD_raw_df.shape[1]):\n",
    "    CTD_raw_df.iloc[:, j] = CTD_raw_df.iloc[:, j].astype(np.float32)\n",
    "\n",
    "CTD_raw_df[\"Time\"] = CTD_raw_df[[\"Data\", \"Ora(UTC)\"]].apply(lambda x: convertTime(x), axis=1)\n",
    "CTD_raw_df[\"Data\"] = CTD_raw_df[\"Time\"].dt.date\n",
    "CTD_raw_df[\"Ora(UTC)\"] =  CTD_raw_df[\"Time\"].dt.time\n",
    "\n",
    "################### Ossigeno ###################\n",
    "Ossigeno_raw_df = pd.read_csv(os.path.join(data_path, file_Ossigeno), encoding='cp1252', header=None, skiprows=11)\n",
    "Ossigeno_raw_df.iloc[0, 0] = re.sub(\"#\", \"\", Ossigeno_raw_df.iloc[0, 0]).strip()\n",
    "Ossigeno_raw_df = Ossigeno_raw_df.squeeze().str.strip().apply(lambda x: re.sub(\"\\s+\", \",\", x)).str.split(\",\", expand=True)\n",
    "# colNames = Ossigeno_raw_df.iloc[0, :].apply(lambda x: re.split(r\"[(\\\\)\\'_]\", x)[0])\n",
    "colNames = Ossigeno_raw_df.iloc[0, :]\n",
    "\n",
    "Ossigeno_raw_df.columns = colNames\n",
    "Ossigeno_raw_df = Ossigeno_raw_df.iloc[1:, :]\n",
    "\n",
    "for j in range(2, Ossigeno_raw_df.shape[1]):\n",
    "    Ossigeno_raw_df.iloc[:, j] = Ossigeno_raw_df.iloc[:, j].astype(np.float32)\n",
    "\n",
    "Ossigeno_raw_df[\"Time\"] = Ossigeno_raw_df[[\"Data\", \"Ora(UTC)\"]].apply(lambda x: convertTime(x), axis=1)\n",
    "Ossigeno_raw_df[\"Data\"] = Ossigeno_raw_df[\"Time\"].dt.date\n",
    "Ossigeno_raw_df[\"Ora(UTC)\"] =  Ossigeno_raw_df[\"Time\"].dt.time\n",
    "\n",
    "################### Winkler ###################\n",
    "Winkler_raw_df = pd.read_csv(os.path.join(data_path, file_Winkler), encoding='cp1252', header=None, skiprows=10)\n",
    "Winkler_raw_df.iloc[0, 0] = re.sub(\"#\", \"\", Winkler_raw_df .iloc[0, 0]).strip()\n",
    "Winkler_raw_df = Winkler_raw_df.squeeze().str.strip().apply(lambda x: re.sub(\"\\s+\", \",\", x)).str.split(\",\", expand=True)\n",
    "colNames = Winkler_raw_df.iloc[0, :]\n",
    "# colNames = Winkler_raw_df.iloc[0, :].apply(lambda x: re.split(r\"[(\\\\)\\'_]\", x)[0])\n",
    "\n",
    "Winkler_raw_df.columns = colNames\n",
    "Winkler_raw_df = Winkler_raw_df.iloc[1:, :]\n",
    "\n",
    "for j in range(2,  Winkler_raw_df.shape[1]):\n",
    "    Winkler_raw_df.iloc[:, j] = Winkler_raw_df.iloc[:, j].astype(np.float32)\n",
    "\n",
    "Winkler_raw_df[\"Time\"] = Winkler_raw_df[[\"Data\", \"Ora(UTC)\"]].apply(lambda x: convertTime(x), axis=1)\n",
    "Winkler_raw_df[\"Data\"] = Winkler_raw_df[\"Time\"].dt.date\n",
    "Winkler_raw_df[\"Ora(UTC)\"] =  Winkler_raw_df[\"Time\"].dt.time\n"
   ]
  },
  {
   "cell_type": "markdown",
   "metadata": {},
   "source": [
    "### Concucibilita"
   ]
  },
  {
   "cell_type": "markdown",
   "metadata": {},
   "source": [
    "Conducibilita contains one anomaly."
   ]
  },
  {
   "cell_type": "code",
   "execution_count": 4,
   "metadata": {},
   "outputs": [
    {
     "data": {
      "text/html": [
       "<div>\n",
       "<style scoped>\n",
       "    .dataframe tbody tr th:only-of-type {\n",
       "        vertical-align: middle;\n",
       "    }\n",
       "\n",
       "    .dataframe tbody tr th {\n",
       "        vertical-align: top;\n",
       "    }\n",
       "\n",
       "    .dataframe thead th {\n",
       "        text-align: right;\n",
       "    }\n",
       "</style>\n",
       "<table border=\"1\" class=\"dataframe\">\n",
       "  <thead>\n",
       "    <tr style=\"text-align: right;\">\n",
       "      <th></th>\n",
       "      <th>Data</th>\n",
       "      <th>Ora(UTC)</th>\n",
       "      <th>Profondita'(m)</th>\n",
       "      <th>Pressione(db)</th>\n",
       "      <th>Conducibilita'(mS/cm)</th>\n",
       "      <th>Temperatura(°C)</th>\n",
       "      <th>Tensione_Batteria(V)</th>\n",
       "      <th>Salinita'(PSU)</th>\n",
       "      <th>Densita'(Kg/m^3)</th>\n",
       "      <th>Densita'(Kg/m^3-1000)</th>\n",
       "      <th>Velocita'_del_Suono(m/s)</th>\n",
       "      <th>Time</th>\n",
       "    </tr>\n",
       "  </thead>\n",
       "  <tbody>\n",
       "    <tr>\n",
       "      <th>1906</th>\n",
       "      <td>2021-11-29</td>\n",
       "      <td>08:30:00</td>\n",
       "      <td>-9999.0</td>\n",
       "      <td>-9999.0</td>\n",
       "      <td>-9999.0</td>\n",
       "      <td>-9999.0</td>\n",
       "      <td>-9999.0</td>\n",
       "      <td>-9999.0</td>\n",
       "      <td>-9999.0</td>\n",
       "      <td>-9999.0</td>\n",
       "      <td>-9999.0</td>\n",
       "      <td>2021-11-29 08:30:00</td>\n",
       "    </tr>\n",
       "  </tbody>\n",
       "</table>\n",
       "</div>"
      ],
      "text/plain": [
       "0           Data  Ora(UTC)  Profondita'(m)  Pressione(db)  \\\n",
       "1906  2021-11-29  08:30:00         -9999.0        -9999.0   \n",
       "\n",
       "0     Conducibilita'(mS/cm)  Temperatura(°C)  Tensione_Batteria(V)  \\\n",
       "1906                -9999.0          -9999.0               -9999.0   \n",
       "\n",
       "0     Salinita'(PSU)  Densita'(Kg/m^3)  Densita'(Kg/m^3-1000)  \\\n",
       "1906         -9999.0           -9999.0                -9999.0   \n",
       "\n",
       "0     Velocita'_del_Suono(m/s)                Time  \n",
       "1906                   -9999.0 2021-11-29 08:30:00  "
      ]
     },
     "execution_count": 4,
     "metadata": {},
     "output_type": "execute_result"
    }
   ],
   "source": [
    "anomaly_temp = Conducibilita_raw_df[((Conducibilita_raw_df == -9999).sum(axis=1) > 0)]\n",
    "anomaly_temp"
   ]
  },
  {
   "cell_type": "code",
   "execution_count": 5,
   "metadata": {},
   "outputs": [
    {
     "name": "stdout",
     "output_type": "stream",
     "text": [
      "<class 'pandas.core.frame.DataFrame'>\n",
      "Int64Index: 7398 entries, 1 to 7399\n",
      "Data columns (total 12 columns):\n",
      " #   Column                    Non-Null Count  Dtype         \n",
      "---  ------                    --------------  -----         \n",
      " 0   Data                      7398 non-null   object        \n",
      " 1   Ora(UTC)                  7398 non-null   object        \n",
      " 2   Profondita'(m)            7398 non-null   float32       \n",
      " 3   Pressione(db)             7398 non-null   float32       \n",
      " 4   Conducibilita'(mS/cm)     7398 non-null   float32       \n",
      " 5   Temperatura(°C)           7398 non-null   float32       \n",
      " 6   Tensione_Batteria(V)      7398 non-null   float32       \n",
      " 7   Salinita'(PSU)            7398 non-null   float32       \n",
      " 8   Densita'(Kg/m^3)          7398 non-null   float32       \n",
      " 9   Densita'(Kg/m^3-1000)     7398 non-null   float32       \n",
      " 10  Velocita'_del_Suono(m/s)  7398 non-null   float32       \n",
      " 11  Time                      7398 non-null   datetime64[ns]\n",
      "dtypes: datetime64[ns](1), float32(9), object(2)\n",
      "memory usage: 491.3+ KB\n"
     ]
    },
    {
     "data": {
      "text/html": [
       "<div>\n",
       "<style scoped>\n",
       "    .dataframe tbody tr th:only-of-type {\n",
       "        vertical-align: middle;\n",
       "    }\n",
       "\n",
       "    .dataframe tbody tr th {\n",
       "        vertical-align: top;\n",
       "    }\n",
       "\n",
       "    .dataframe thead th {\n",
       "        text-align: right;\n",
       "    }\n",
       "</style>\n",
       "<table border=\"1\" class=\"dataframe\">\n",
       "  <thead>\n",
       "    <tr style=\"text-align: right;\">\n",
       "      <th></th>\n",
       "      <th>Profondita'(m)</th>\n",
       "      <th>Pressione(db)</th>\n",
       "      <th>Conducibilita'(mS/cm)</th>\n",
       "      <th>Temperatura(°C)</th>\n",
       "      <th>Tensione_Batteria(V)</th>\n",
       "      <th>Salinita'(PSU)</th>\n",
       "      <th>Densita'(Kg/m^3)</th>\n",
       "      <th>Densita'(Kg/m^3-1000)</th>\n",
       "      <th>Velocita'_del_Suono(m/s)</th>\n",
       "    </tr>\n",
       "  </thead>\n",
       "  <tbody>\n",
       "    <tr>\n",
       "      <th>count</th>\n",
       "      <td>7398.000000</td>\n",
       "      <td>7398.000000</td>\n",
       "      <td>7398.000000</td>\n",
       "      <td>7398.000000</td>\n",
       "      <td>7398.000000</td>\n",
       "      <td>7398.000000</td>\n",
       "      <td>7398.000000</td>\n",
       "      <td>7398.000000</td>\n",
       "      <td>7398.000000</td>\n",
       "    </tr>\n",
       "    <tr>\n",
       "      <th>mean</th>\n",
       "      <td>1.166397</td>\n",
       "      <td>1.175836</td>\n",
       "      <td>43.934010</td>\n",
       "      <td>14.115006</td>\n",
       "      <td>3.773206</td>\n",
       "      <td>36.739773</td>\n",
       "      <td>1027.493408</td>\n",
       "      <td>27.492550</td>\n",
       "      <td>1505.726196</td>\n",
       "    </tr>\n",
       "    <tr>\n",
       "      <th>std</th>\n",
       "      <td>0.099095</td>\n",
       "      <td>0.099899</td>\n",
       "      <td>2.628942</td>\n",
       "      <td>2.111574</td>\n",
       "      <td>0.179691</td>\n",
       "      <td>1.131359</td>\n",
       "      <td>0.938540</td>\n",
       "      <td>0.938538</td>\n",
       "      <td>6.881653</td>\n",
       "    </tr>\n",
       "    <tr>\n",
       "      <th>min</th>\n",
       "      <td>0.797000</td>\n",
       "      <td>0.803000</td>\n",
       "      <td>34.400002</td>\n",
       "      <td>11.110000</td>\n",
       "      <td>3.442000</td>\n",
       "      <td>29.428400</td>\n",
       "      <td>1022.232788</td>\n",
       "      <td>22.232800</td>\n",
       "      <td>1490.918945</td>\n",
       "    </tr>\n",
       "    <tr>\n",
       "      <th>25%</th>\n",
       "      <td>1.111000</td>\n",
       "      <td>1.120000</td>\n",
       "      <td>42.590000</td>\n",
       "      <td>12.700000</td>\n",
       "      <td>3.621000</td>\n",
       "      <td>36.544851</td>\n",
       "      <td>1026.940613</td>\n",
       "      <td>26.940650</td>\n",
       "      <td>1501.281860</td>\n",
       "    </tr>\n",
       "    <tr>\n",
       "      <th>50%</th>\n",
       "      <td>1.179000</td>\n",
       "      <td>1.189000</td>\n",
       "      <td>43.470001</td>\n",
       "      <td>13.180000</td>\n",
       "      <td>3.777000</td>\n",
       "      <td>37.058899</td>\n",
       "      <td>1027.746765</td>\n",
       "      <td>27.746750</td>\n",
       "      <td>1503.186096</td>\n",
       "    </tr>\n",
       "    <tr>\n",
       "      <th>75%</th>\n",
       "      <td>1.249000</td>\n",
       "      <td>1.259000</td>\n",
       "      <td>45.310001</td>\n",
       "      <td>15.600000</td>\n",
       "      <td>3.910000</td>\n",
       "      <td>37.405998</td>\n",
       "      <td>1028.178558</td>\n",
       "      <td>28.178575</td>\n",
       "      <td>1510.707275</td>\n",
       "    </tr>\n",
       "    <tr>\n",
       "      <th>max</th>\n",
       "      <td>1.396000</td>\n",
       "      <td>1.407000</td>\n",
       "      <td>50.860001</td>\n",
       "      <td>19.950001</td>\n",
       "      <td>4.079000</td>\n",
       "      <td>37.838501</td>\n",
       "      <td>1028.703735</td>\n",
       "      <td>28.703699</td>\n",
       "      <td>1524.038208</td>\n",
       "    </tr>\n",
       "  </tbody>\n",
       "</table>\n",
       "</div>"
      ],
      "text/plain": [
       "0      Profondita'(m)  Pressione(db)  Conducibilita'(mS/cm)  Temperatura(°C)  \\\n",
       "count     7398.000000    7398.000000            7398.000000      7398.000000   \n",
       "mean         1.166397       1.175836              43.934010        14.115006   \n",
       "std          0.099095       0.099899               2.628942         2.111574   \n",
       "min          0.797000       0.803000              34.400002        11.110000   \n",
       "25%          1.111000       1.120000              42.590000        12.700000   \n",
       "50%          1.179000       1.189000              43.470001        13.180000   \n",
       "75%          1.249000       1.259000              45.310001        15.600000   \n",
       "max          1.396000       1.407000              50.860001        19.950001   \n",
       "\n",
       "0      Tensione_Batteria(V)  Salinita'(PSU)  Densita'(Kg/m^3)  \\\n",
       "count           7398.000000     7398.000000       7398.000000   \n",
       "mean               3.773206       36.739773       1027.493408   \n",
       "std                0.179691        1.131359          0.938540   \n",
       "min                3.442000       29.428400       1022.232788   \n",
       "25%                3.621000       36.544851       1026.940613   \n",
       "50%                3.777000       37.058899       1027.746765   \n",
       "75%                3.910000       37.405998       1028.178558   \n",
       "max                4.079000       37.838501       1028.703735   \n",
       "\n",
       "0      Densita'(Kg/m^3-1000)  Velocita'_del_Suono(m/s)  \n",
       "count            7398.000000               7398.000000  \n",
       "mean               27.492550               1505.726196  \n",
       "std                 0.938538                  6.881653  \n",
       "min                22.232800               1490.918945  \n",
       "25%                26.940650               1501.281860  \n",
       "50%                27.746750               1503.186096  \n",
       "75%                28.178575               1510.707275  \n",
       "max                28.703699               1524.038208  "
      ]
     },
     "execution_count": 5,
     "metadata": {},
     "output_type": "execute_result"
    }
   ],
   "source": [
    "try:\n",
    "    Conducibilita_raw_df.drop(anomaly_temp.index, axis=0, inplace=True)\n",
    "except:\n",
    "    pass\n",
    "Conducibilita_raw_df.info()\n",
    "Conducibilita_raw_df.describe()\n",
    "\n"
   ]
  },
  {
   "cell_type": "code",
   "execution_count": 6,
   "metadata": {},
   "outputs": [
    {
     "name": "stdout",
     "output_type": "stream",
     "text": [
      "Data\n",
      "Ora(UTC)\n"
     ]
    },
    {
     "data": {
      "image/png": "[encoded data removed]",
      "text/plain": [
       "<Figure size 432x288 with 1 Axes>"
      ]
     },
     "metadata": {
      "needs_background": "light"
     },
     "output_type": "display_data"
    },
    {
     "data": {
      "image/png": "[encoded data removed]",
      "text/plain": [
       "<Figure size 432x288 with 1 Axes>"
      ]
     },
     "metadata": {
      "needs_background": "light"
     },
     "output_type": "display_data"
    },
    {
     "data": {
      "image/png": "[encoded data removed]",
      "text/plain": [
       "<Figure size 432x288 with 1 Axes>"
      ]
     },
     "metadata": {
      "needs_background": "light"
     },
     "output_type": "display_data"
    },
    {
     "data": {
      "image/png": "[encoded data removed]",
      "text/plain": [
       "<Figure size 432x288 with 1 Axes>"
      ]
     },
     "metadata": {
      "needs_background": "light"
     },
     "output_type": "display_data"
    },
    {
     "data": {
      "image/png": "[encoded data removed]",
      "text/plain": [
       "<Figure size 432x288 with 1 Axes>"
      ]
     },
     "metadata": {
      "needs_background": "light"
     },
     "output_type": "display_data"
    },
    {
     "data": {
      "image/png": "[encoded data removed]",
      "text/plain": [
       "<Figure size 432x288 with 1 Axes>"
      ]
     },
     "metadata": {
      "needs_background": "light"
     },
     "output_type": "display_data"
    },
    {
     "data": {
      "image/png": "[encoded data removed]",
      "text/plain": [
       "<Figure size 432x288 with 1 Axes>"
      ]
     },
     "metadata": {
      "needs_background": "light"
     },
     "output_type": "display_data"
    },
    {
     "data": {
      "image/png": "[encoded data removed]",
      "text/plain": [
       "<Figure size 432x288 with 1 Axes>"
      ]
     },
     "metadata": {
      "needs_background": "light"
     },
     "output_type": "display_data"
    },
    {
     "data": {
      "image/png": "[encoded data removed]",
      "text/plain": [
       "<Figure size 432x288 with 1 Axes>"
      ]
     },
     "metadata": {
      "needs_background": "light"
     },
     "output_type": "display_data"
    },
    {
     "name": "stdout",
     "output_type": "stream",
     "text": [
      "Time\n"
     ]
    },
    {
     "data": {
      "image/png": "[encoded data removed]",
      "text/plain": [
       "<Figure size 432x288 with 1 Axes>"
      ]
     },
     "metadata": {
      "needs_background": "light"
     },
     "output_type": "display_data"
    }
   ],
   "source": [
    "for column in Conducibilita_raw_df.columns:\n",
    "    try:\n",
    "        Conducibilita_raw_df[[column]].boxplot()\n",
    "        plt.show()\n",
    "    except:\n",
    "        print(column)"
   ]
  },
  {
   "cell_type": "markdown",
   "metadata": {},
   "source": [
    "Profondita against Pressione (Perfectly Linear)"
   ]
  },
  {
   "cell_type": "code",
   "execution_count": 7,
   "metadata": {},
   "outputs": [
    {
     "data": {
      "text/plain": [
       "<AxesSubplot:xlabel=\"Profondita'(m)\", ylabel='Pressione(db)'>"
      ]
     },
     "execution_count": 7,
     "metadata": {},
     "output_type": "execute_result"
    },
    {
     "data": {
      "image/png": "[encoded data removed]",
      "text/plain": [
       "<Figure size 432x288 with 1 Axes>"
      ]
     },
     "metadata": {
      "needs_background": "light"
     },
     "output_type": "display_data"
    }
   ],
   "source": [
    "sns.lineplot(data=Conducibilita_raw_df, x=\"Profondita'(m)\", y=\"Pressione(db)\", marker=\"o\")"
   ]
  },
  {
   "cell_type": "code",
   "execution_count": 8,
   "metadata": {},
   "outputs": [
    {
     "data": {
      "text/html": [
       "<table class=\"simpletable\">\n",
       "<caption>OLS Regression Results</caption>\n",
       "<tr>\n",
       "  <th>Dep. Variable:</th>      <td>Pressione(db)</td>  <th>  R-squared (uncentered):</th>       <td>   1.000</td> \n",
       "</tr>\n",
       "<tr>\n",
       "  <th>Model:</th>                   <td>OLS</td>       <th>  Adj. R-squared (uncentered):</th>  <td>   1.000</td> \n",
       "</tr>\n",
       "<tr>\n",
       "  <th>Method:</th>             <td>Least Squares</td>  <th>  F-statistic:       </th>           <td>1.267e+11</td>\n",
       "</tr>\n",
       "<tr>\n",
       "  <th>Date:</th>             <td>Sun, 10 Apr 2022</td> <th>  Prob (F-statistic):</th>            <td>  0.00</td>  \n",
       "</tr>\n",
       "<tr>\n",
       "  <th>Time:</th>                 <td>18:00:00</td>     <th>  Log-Likelihood:    </th>           <td>  49890.</td> \n",
       "</tr>\n",
       "<tr>\n",
       "  <th>No. Observations:</th>      <td>  7398</td>      <th>  AIC:               </th>          <td>-9.978e+04</td>\n",
       "</tr>\n",
       "<tr>\n",
       "  <th>Df Residuals:</th>          <td>  7397</td>      <th>  BIC:               </th>          <td>-9.977e+04</td>\n",
       "</tr>\n",
       "<tr>\n",
       "  <th>Df Model:</th>              <td>     1</td>      <th>                     </th>               <td> </td>    \n",
       "</tr>\n",
       "<tr>\n",
       "  <th>Covariance Type:</th>      <td>nonrobust</td>    <th>                     </th>               <td> </td>    \n",
       "</tr>\n",
       "</table>\n",
       "<table class=\"simpletable\">\n",
       "<tr>\n",
       "         <td></td>           <th>coef</th>     <th>std err</th>      <th>t</th>      <th>P>|t|</th>  <th>[0.025</th>    <th>0.975]</th>  \n",
       "</tr>\n",
       "<tr>\n",
       "  <th>Profondita'(m)</th> <td>    1.0081</td> <td> 2.83e-06</td> <td> 3.56e+05</td> <td> 0.000</td> <td>    1.008</td> <td>    1.008</td>\n",
       "</tr>\n",
       "</table>\n",
       "<table class=\"simpletable\">\n",
       "<tr>\n",
       "  <th>Omnibus:</th>       <td>3005.186</td> <th>  Durbin-Watson:     </th> <td>   0.753</td>\n",
       "</tr>\n",
       "<tr>\n",
       "  <th>Prob(Omnibus):</th>  <td> 0.000</td>  <th>  Jarque-Bera (JB):  </th> <td> 394.284</td>\n",
       "</tr>\n",
       "<tr>\n",
       "  <th>Skew:</th>           <td> 0.135</td>  <th>  Prob(JB):          </th> <td>2.41e-86</td>\n",
       "</tr>\n",
       "<tr>\n",
       "  <th>Kurtosis:</th>       <td> 1.902</td>  <th>  Cond. No.          </th> <td>    1.00</td>\n",
       "</tr>\n",
       "</table><br/><br/>Notes:<br/>[1] R² is computed without centering (uncentered) since the model does not contain a constant.<br/>[2] Standard Errors assume that the covariance matrix of the errors is correctly specified."
      ],
      "text/plain": [
       "<class 'statsmodels.iolib.summary.Summary'>\n",
       "\"\"\"\n",
       "                                 OLS Regression Results                                \n",
       "=======================================================================================\n",
       "Dep. Variable:          Pressione(db)   R-squared (uncentered):                   1.000\n",
       "Model:                            OLS   Adj. R-squared (uncentered):              1.000\n",
       "Method:                 Least Squares   F-statistic:                          1.267e+11\n",
       "Date:                Sun, 10 Apr 2022   Prob (F-statistic):                        0.00\n",
       "Time:                        18:00:00   Log-Likelihood:                          49890.\n",
       "No. Observations:                7398   AIC:                                 -9.978e+04\n",
       "Df Residuals:                    7397   BIC:                                 -9.977e+04\n",
       "Df Model:                           1                                                  \n",
       "Covariance Type:            nonrobust                                                  \n",
       "==================================================================================\n",
       "                     coef    std err          t      P>|t|      [0.025      0.975]\n",
       "----------------------------------------------------------------------------------\n",
       "Profondita'(m)     1.0081   2.83e-06   3.56e+05      0.000       1.008       1.008\n",
       "==============================================================================\n",
       "Omnibus:                     3005.186   Durbin-Watson:                   0.753\n",
       "Prob(Omnibus):                  0.000   Jarque-Bera (JB):              394.284\n",
       "Skew:                           0.135   Prob(JB):                     2.41e-86\n",
       "Kurtosis:                       1.902   Cond. No.                         1.00\n",
       "==============================================================================\n",
       "\n",
       "Notes:\n",
       "[1] R² is computed without centering (uncentered) since the model does not contain a constant.\n",
       "[2] Standard Errors assume that the covariance matrix of the errors is correctly specified.\n",
       "\"\"\""
      ]
     },
     "execution_count": 8,
     "metadata": {},
     "output_type": "execute_result"
    }
   ],
   "source": [
    "sm.OLS(Conducibilita_raw_df[\"Pressione(db)\"], Conducibilita_raw_df[[\"Profondita'(m)\"]]).fit().summary()"
   ]
  },
  {
   "cell_type": "markdown",
   "metadata": {},
   "source": [
    "Conducibilita against Salinita & Temperatura (Perfectly Linearly Explained)"
   ]
  },
  {
   "cell_type": "code",
   "execution_count": 9,
   "metadata": {},
   "outputs": [
    {
     "data": {
      "text/html": [
       "<table class=\"simpletable\">\n",
       "<caption>OLS Regression Results</caption>\n",
       "<tr>\n",
       "  <th>Dep. Variable:</th>    <td>Conducibilita'(mS/cm)</td> <th>  R-squared (uncentered):</th>      <td>   1.000</td> \n",
       "</tr>\n",
       "<tr>\n",
       "  <th>Model:</th>                     <td>OLS</td>          <th>  Adj. R-squared (uncentered):</th> <td>   1.000</td> \n",
       "</tr>\n",
       "<tr>\n",
       "  <th>Method:</th>               <td>Least Squares</td>     <th>  F-statistic:       </th>          <td>8.931e+07</td>\n",
       "</tr>\n",
       "<tr>\n",
       "  <th>Date:</th>               <td>Sun, 10 Apr 2022</td>    <th>  Prob (F-statistic):</th>           <td>  0.00</td>  \n",
       "</tr>\n",
       "<tr>\n",
       "  <th>Time:</th>                   <td>18:00:02</td>        <th>  Log-Likelihood:    </th>          <td> -1164.3</td> \n",
       "</tr>\n",
       "<tr>\n",
       "  <th>No. Observations:</th>        <td>  7398</td>         <th>  AIC:               </th>          <td>   2333.</td> \n",
       "</tr>\n",
       "<tr>\n",
       "  <th>Df Residuals:</th>            <td>  7396</td>         <th>  BIC:               </th>          <td>   2346.</td> \n",
       "</tr>\n",
       "<tr>\n",
       "  <th>Df Model:</th>                <td>     2</td>         <th>                     </th>              <td> </td>    \n",
       "</tr>\n",
       "<tr>\n",
       "  <th>Covariance Type:</th>        <td>nonrobust</td>       <th>                     </th>              <td> </td>    \n",
       "</tr>\n",
       "</table>\n",
       "<table class=\"simpletable\">\n",
       "<tr>\n",
       "         <td></td>            <th>coef</th>     <th>std err</th>      <th>t</th>      <th>P>|t|</th>  <th>[0.025</th>    <th>0.975]</th>  \n",
       "</tr>\n",
       "<tr>\n",
       "  <th>Salinita'(PSU)</th>  <td>    0.8018</td> <td>    0.001</td> <td> 1313.583</td> <td> 0.000</td> <td>    0.801</td> <td>    0.803</td>\n",
       "</tr>\n",
       "<tr>\n",
       "  <th>Temperatura(°C)</th> <td>    1.0261</td> <td>    0.002</td> <td>  652.709</td> <td> 0.000</td> <td>    1.023</td> <td>    1.029</td>\n",
       "</tr>\n",
       "</table>\n",
       "<table class=\"simpletable\">\n",
       "<tr>\n",
       "  <th>Omnibus:</th>       <td>3902.182</td> <th>  Durbin-Watson:     </th> <td>   0.059</td> \n",
       "</tr>\n",
       "<tr>\n",
       "  <th>Prob(Omnibus):</th>  <td> 0.000</td>  <th>  Jarque-Bera (JB):  </th> <td>26088.774</td>\n",
       "</tr>\n",
       "<tr>\n",
       "  <th>Skew:</th>           <td>-2.506</td>  <th>  Prob(JB):          </th> <td>    0.00</td> \n",
       "</tr>\n",
       "<tr>\n",
       "  <th>Kurtosis:</th>       <td>10.714</td>  <th>  Cond. No.          </th> <td>    20.1</td> \n",
       "</tr>\n",
       "</table><br/><br/>Notes:<br/>[1] R² is computed without centering (uncentered) since the model does not contain a constant.<br/>[2] Standard Errors assume that the covariance matrix of the errors is correctly specified."
      ],
      "text/plain": [
       "<class 'statsmodels.iolib.summary.Summary'>\n",
       "\"\"\"\n",
       "                                  OLS Regression Results                                  \n",
       "==========================================================================================\n",
       "Dep. Variable:     Conducibilita'(mS/cm)   R-squared (uncentered):                   1.000\n",
       "Model:                               OLS   Adj. R-squared (uncentered):              1.000\n",
       "Method:                    Least Squares   F-statistic:                          8.931e+07\n",
       "Date:                   Sun, 10 Apr 2022   Prob (F-statistic):                        0.00\n",
       "Time:                           18:00:02   Log-Likelihood:                         -1164.3\n",
       "No. Observations:                   7398   AIC:                                      2333.\n",
       "Df Residuals:                       7396   BIC:                                      2346.\n",
       "Df Model:                              2                                                  \n",
       "Covariance Type:               nonrobust                                                  \n",
       "===================================================================================\n",
       "                      coef    std err          t      P>|t|      [0.025      0.975]\n",
       "-----------------------------------------------------------------------------------\n",
       "Salinita'(PSU)      0.8018      0.001   1313.583      0.000       0.801       0.803\n",
       "Temperatura(°C)     1.0261      0.002    652.709      0.000       1.023       1.029\n",
       "==============================================================================\n",
       "Omnibus:                     3902.182   Durbin-Watson:                   0.059\n",
       "Prob(Omnibus):                  0.000   Jarque-Bera (JB):            26088.774\n",
       "Skew:                          -2.506   Prob(JB):                         0.00\n",
       "Kurtosis:                      10.714   Cond. No.                         20.1\n",
       "==============================================================================\n",
       "\n",
       "Notes:\n",
       "[1] R² is computed without centering (uncentered) since the model does not contain a constant.\n",
       "[2] Standard Errors assume that the covariance matrix of the errors is correctly specified.\n",
       "\"\"\""
      ]
     },
     "execution_count": 9,
     "metadata": {},
     "output_type": "execute_result"
    }
   ],
   "source": [
    "sm.OLS(Conducibilita_raw_df[\"Conducibilita'(mS/cm)\"], Conducibilita_raw_df[[\"Salinita'(PSU)\", \"Temperatura(°C)\"]]).fit().summary()"
   ]
  },
  {
   "cell_type": "markdown",
   "metadata": {},
   "source": [
    "### Winkler"
   ]
  },
  {
   "cell_type": "markdown",
   "metadata": {},
   "source": [
    "Winkler contains no anomaly."
   ]
  },
  {
   "cell_type": "code",
   "execution_count": 10,
   "metadata": {},
   "outputs": [
    {
     "data": {
      "text/html": [
       "<div>\n",
       "<style scoped>\n",
       "    .dataframe tbody tr th:only-of-type {\n",
       "        vertical-align: middle;\n",
       "    }\n",
       "\n",
       "    .dataframe tbody tr th {\n",
       "        vertical-align: top;\n",
       "    }\n",
       "\n",
       "    .dataframe thead th {\n",
       "        text-align: right;\n",
       "    }\n",
       "</style>\n",
       "<table border=\"1\" class=\"dataframe\">\n",
       "  <thead>\n",
       "    <tr style=\"text-align: right;\">\n",
       "      <th></th>\n",
       "      <th>Data</th>\n",
       "      <th>Ora(UTC)</th>\n",
       "      <th>Profondita'(m)</th>\n",
       "      <th>Ossigeno(mg/l)</th>\n",
       "      <th>Ossigeno(ml/l)</th>\n",
       "      <th>Ossigeno(umol/l)</th>\n",
       "      <th>Ossigeno(%)</th>\n",
       "      <th>Time</th>\n",
       "    </tr>\n",
       "  </thead>\n",
       "  <tbody>\n",
       "  </tbody>\n",
       "</table>\n",
       "</div>"
      ],
      "text/plain": [
       "Empty DataFrame\n",
       "Columns: [Data, Ora(UTC), Profondita'(m), Ossigeno(mg/l), Ossigeno(ml/l), Ossigeno(umol/l), Ossigeno(%), Time]\n",
       "Index: []"
      ]
     },
     "execution_count": 10,
     "metadata": {},
     "output_type": "execute_result"
    }
   ],
   "source": [
    "anomaly_temp = Winkler_raw_df[((Winkler_raw_df == -9999).sum(axis=1) > 0)]\n",
    "anomaly_temp"
   ]
  },
  {
   "cell_type": "code",
   "execution_count": 11,
   "metadata": {},
   "outputs": [
    {
     "name": "stdout",
     "output_type": "stream",
     "text": [
      "<class 'pandas.core.frame.DataFrame'>\n",
      "RangeIndex: 19 entries, 1 to 19\n",
      "Data columns (total 8 columns):\n",
      " #   Column            Non-Null Count  Dtype         \n",
      "---  ------            --------------  -----         \n",
      " 0   Data              19 non-null     object        \n",
      " 1   Ora(UTC)          19 non-null     object        \n",
      " 2   Profondita'(m)    19 non-null     float32       \n",
      " 3   Ossigeno(mg/l)    19 non-null     float32       \n",
      " 4   Ossigeno(ml/l)    19 non-null     float32       \n",
      " 5   Ossigeno(umol/l)  19 non-null     float32       \n",
      " 6   Ossigeno(%)       19 non-null     float32       \n",
      " 7   Time              19 non-null     datetime64[ns]\n",
      "dtypes: datetime64[ns](1), float32(5), object(2)\n",
      "memory usage: 968.0+ bytes\n"
     ]
    },
    {
     "data": {
      "text/html": [
       "<div>\n",
       "<style scoped>\n",
       "    .dataframe tbody tr th:only-of-type {\n",
       "        vertical-align: middle;\n",
       "    }\n",
       "\n",
       "    .dataframe tbody tr th {\n",
       "        vertical-align: top;\n",
       "    }\n",
       "\n",
       "    .dataframe thead th {\n",
       "        text-align: right;\n",
       "    }\n",
       "</style>\n",
       "<table border=\"1\" class=\"dataframe\">\n",
       "  <thead>\n",
       "    <tr style=\"text-align: right;\">\n",
       "      <th></th>\n",
       "      <th>Profondita'(m)</th>\n",
       "      <th>Ossigeno(mg/l)</th>\n",
       "      <th>Ossigeno(ml/l)</th>\n",
       "      <th>Ossigeno(umol/l)</th>\n",
       "      <th>Ossigeno(%)</th>\n",
       "    </tr>\n",
       "  </thead>\n",
       "  <tbody>\n",
       "    <tr>\n",
       "      <th>count</th>\n",
       "      <td>19.0</td>\n",
       "      <td>19.000000</td>\n",
       "      <td>19.000000</td>\n",
       "      <td>19.000000</td>\n",
       "      <td>19.000000</td>\n",
       "    </tr>\n",
       "    <tr>\n",
       "      <th>mean</th>\n",
       "      <td>1.0</td>\n",
       "      <td>7.924738</td>\n",
       "      <td>5.551053</td>\n",
       "      <td>247.684204</td>\n",
       "      <td>95.121643</td>\n",
       "    </tr>\n",
       "    <tr>\n",
       "      <th>std</th>\n",
       "      <td>0.0</td>\n",
       "      <td>0.409490</td>\n",
       "      <td>0.286490</td>\n",
       "      <td>12.931667</td>\n",
       "      <td>3.164390</td>\n",
       "    </tr>\n",
       "    <tr>\n",
       "      <th>min</th>\n",
       "      <td>1.0</td>\n",
       "      <td>7.120000</td>\n",
       "      <td>4.990000</td>\n",
       "      <td>222.000000</td>\n",
       "      <td>89.357002</td>\n",
       "    </tr>\n",
       "    <tr>\n",
       "      <th>25%</th>\n",
       "      <td>1.0</td>\n",
       "      <td>7.635000</td>\n",
       "      <td>5.350000</td>\n",
       "      <td>238.500000</td>\n",
       "      <td>92.865002</td>\n",
       "    </tr>\n",
       "    <tr>\n",
       "      <th>50%</th>\n",
       "      <td>1.0</td>\n",
       "      <td>8.000000</td>\n",
       "      <td>5.600000</td>\n",
       "      <td>250.000000</td>\n",
       "      <td>95.332001</td>\n",
       "    </tr>\n",
       "    <tr>\n",
       "      <th>75%</th>\n",
       "      <td>1.0</td>\n",
       "      <td>8.220000</td>\n",
       "      <td>5.760000</td>\n",
       "      <td>257.000000</td>\n",
       "      <td>97.359001</td>\n",
       "    </tr>\n",
       "    <tr>\n",
       "      <th>max</th>\n",
       "      <td>1.0</td>\n",
       "      <td>8.530000</td>\n",
       "      <td>5.980000</td>\n",
       "      <td>267.000000</td>\n",
       "      <td>102.495003</td>\n",
       "    </tr>\n",
       "  </tbody>\n",
       "</table>\n",
       "</div>"
      ],
      "text/plain": [
       "0      Profondita'(m)  Ossigeno(mg/l)  Ossigeno(ml/l)  Ossigeno(umol/l)  \\\n",
       "count            19.0       19.000000       19.000000         19.000000   \n",
       "mean              1.0        7.924738        5.551053        247.684204   \n",
       "std               0.0        0.409490        0.286490         12.931667   \n",
       "min               1.0        7.120000        4.990000        222.000000   \n",
       "25%               1.0        7.635000        5.350000        238.500000   \n",
       "50%               1.0        8.000000        5.600000        250.000000   \n",
       "75%               1.0        8.220000        5.760000        257.000000   \n",
       "max               1.0        8.530000        5.980000        267.000000   \n",
       "\n",
       "0      Ossigeno(%)  \n",
       "count    19.000000  \n",
       "mean     95.121643  \n",
       "std       3.164390  \n",
       "min      89.357002  \n",
       "25%      92.865002  \n",
       "50%      95.332001  \n",
       "75%      97.359001  \n",
       "max     102.495003  "
      ]
     },
     "execution_count": 11,
     "metadata": {},
     "output_type": "execute_result"
    }
   ],
   "source": [
    "Winkler_raw_df.info()\n",
    "Winkler_raw_df.describe()"
   ]
  },
  {
   "cell_type": "code",
   "execution_count": 12,
   "metadata": {},
   "outputs": [
    {
     "name": "stdout",
     "output_type": "stream",
     "text": [
      "Data\n",
      "Ora(UTC)\n"
     ]
    },
    {
     "data": {
      "image/png": "[encoded data removed]",
      "text/plain": [
       "<Figure size 432x288 with 1 Axes>"
      ]
     },
     "metadata": {
      "needs_background": "light"
     },
     "output_type": "display_data"
    },
    {
     "data": {
      "image/png": "[encoded data removed]",
      "text/plain": [
       "<Figure size 432x288 with 1 Axes>"
      ]
     },
     "metadata": {
      "needs_background": "light"
     },
     "output_type": "display_data"
    },
    {
     "data": {
      "image/png": "[encoded data removed]",
      "text/plain": [
       "<Figure size 432x288 with 1 Axes>"
      ]
     },
     "metadata": {
      "needs_background": "light"
     },
     "output_type": "display_data"
    },
    {
     "data": {
      "image/png": "[encoded data removed]",
      "text/plain": [
       "<Figure size 432x288 with 1 Axes>"
      ]
     },
     "metadata": {
      "needs_background": "light"
     },
     "output_type": "display_data"
    },
    {
     "data": {
      "image/png": "[encoded data removed]",
      "text/plain": [
       "<Figure size 432x288 with 1 Axes>"
      ]
     },
     "metadata": {
      "needs_background": "light"
     },
     "output_type": "display_data"
    },
    {
     "name": "stdout",
     "output_type": "stream",
     "text": [
      "Time\n"
     ]
    },
    {
     "data": {
      "image/png": "[encoded data removed]",
      "text/plain": [
       "<Figure size 432x288 with 1 Axes>"
      ]
     },
     "metadata": {
      "needs_background": "light"
     },
     "output_type": "display_data"
    }
   ],
   "source": [
    "for column in Winkler_raw_df.columns:\n",
    "    try:\n",
    "        Winkler_raw_df[[column]].boxplot()\n",
    "        plt.show()\n",
    "    except:\n",
    "        print(column)"
   ]
  },
  {
   "cell_type": "markdown",
   "metadata": {},
   "source": [
    "### CTD"
   ]
  },
  {
   "cell_type": "markdown",
   "metadata": {},
   "source": [
    "CTD contains too many anomalies to drop."
   ]
  },
  {
   "cell_type": "code",
   "execution_count": 24,
   "metadata": {},
   "outputs": [
    {
     "data": {
      "text/plain": [
       "<AxesSubplot:title={'center':'Anomaly Proportion by Columns'}>"
      ]
     },
     "execution_count": 24,
     "metadata": {},
     "output_type": "execute_result"
    },
    {
     "data": {
      "image/png": "[encoded data removed]",
      "text/plain": [
       "<Figure size 432x288 with 1 Axes>"
      ]
     },
     "metadata": {
      "needs_background": "light"
     },
     "output_type": "display_data"
    }
   ],
   "source": [
    "(CTD_raw_df == -9999).mean(axis=0).plot.bar(title=\"Anomaly Proportion by Columns\")"
   ]
  },
  {
   "cell_type": "code",
   "execution_count": 14,
   "metadata": {},
   "outputs": [
    {
     "name": "stdout",
     "output_type": "stream",
     "text": [
      "Data\n",
      "Ora(UTC)\n"
     ]
    },
    {
     "data": {
      "image/png": "[encoded data removed]",
      "text/plain": [
       "<Figure size 432x288 with 1 Axes>"
      ]
     },
     "metadata": {
      "needs_background": "light"
     },
     "output_type": "display_data"
    },
    {
     "data": {
      "image/png": "[encoded data removed]",
      "text/plain": [
       "<Figure size 432x288 with 1 Axes>"
      ]
     },
     "metadata": {
      "needs_background": "light"
     },
     "output_type": "display_data"
    },
    {
     "data": {
      "image/png": "[encoded data removed]",
      "text/plain": [
       "<Figure size 432x288 with 1 Axes>"
      ]
     },
     "metadata": {
      "needs_background": "light"
     },
     "output_type": "display_data"
    },
    {
     "data": {
      "image/png": "[encoded data removed]",
      "text/plain": [
       "<Figure size 432x288 with 1 Axes>"
      ]
     },
     "metadata": {
      "needs_background": "light"
     },
     "output_type": "display_data"
    },
    {
     "data": {
      "image/png": "[encoded data removed]",
      "text/plain": [
       "<Figure size 432x288 with 1 Axes>"
      ]
     },
     "metadata": {
      "needs_background": "light"
     },
     "output_type": "display_data"
    },
    {
     "data": {
      "image/png": "[encoded data removed]",
      "text/plain": [
       "<Figure size 432x288 with 1 Axes>"
      ]
     },
     "metadata": {
      "needs_background": "light"
     },
     "output_type": "display_data"
    },
    {
     "data": {
      "image/png": "[encoded data removed]",
      "text/plain": [
       "<Figure size 432x288 with 1 Axes>"
      ]
     },
     "metadata": {
      "needs_background": "light"
     },
     "output_type": "display_data"
    },
    {
     "data": {
      "image/png": "[encoded data removed]",
      "text/plain": [
       "<Figure size 432x288 with 1 Axes>"
      ]
     },
     "metadata": {
      "needs_background": "light"
     },
     "output_type": "display_data"
    },
    {
     "data": {
      "image/png": "[encoded data removed]",
      "text/plain": [
       "<Figure size 432x288 with 1 Axes>"
      ]
     },
     "metadata": {
      "needs_background": "light"
     },
     "output_type": "display_data"
    },
    {
     "data": {
      "image/png": "[encoded data removed]",
      "text/plain": [
       "<Figure size 432x288 with 1 Axes>"
      ]
     },
     "metadata": {
      "needs_background": "light"
     },
     "output_type": "display_data"
    },
    {
     "data": {
      "image/png": "[encoded data removed]",
      "text/plain": [
       "<Figure size 432x288 with 1 Axes>"
      ]
     },
     "metadata": {
      "needs_background": "light"
     },
     "output_type": "display_data"
    },
    {
     "data": {
      "image/png": "[encoded data removed]",
      "text/plain": [
       "<Figure size 432x288 with 1 Axes>"
      ]
     },
     "metadata": {
      "needs_background": "light"
     },
     "output_type": "display_data"
    },
    {
     "data": {
      "image/png": "[encoded data removed]",
      "text/plain": [
       "<Figure size 432x288 with 1 Axes>"
      ]
     },
     "metadata": {
      "needs_background": "light"
     },
     "output_type": "display_data"
    },
    {
     "data": {
      "image/png": "[encoded data removed]",
      "text/plain": [
       "<Figure size 432x288 with 1 Axes>"
      ]
     },
     "metadata": {
      "needs_background": "light"
     },
     "output_type": "display_data"
    },
    {
     "data": {
      "image/png": "[encoded data removed]",
      "text/plain": [
       "<Figure size 432x288 with 1 Axes>"
      ]
     },
     "metadata": {
      "needs_background": "light"
     },
     "output_type": "display_data"
    },
    {
     "name": "stdout",
     "output_type": "stream",
     "text": [
      "Time\n"
     ]
    },
    {
     "data": {
      "image/png": "[encoded data removed]",
      "text/plain": [
       "<Figure size 432x288 with 1 Axes>"
      ]
     },
     "metadata": {
      "needs_background": "light"
     },
     "output_type": "display_data"
    }
   ],
   "source": [
    "for column in CTD_raw_df.columns:\n",
    "    try:\n",
    "        CTD_raw_df[[column]].boxplot()\n",
    "        plt.show()\n",
    "    except:\n",
    "        print(column)"
   ]
  },
  {
   "cell_type": "markdown",
   "metadata": {},
   "source": [
    "Profondita against Pressione (Perfectly Linear)"
   ]
  },
  {
   "cell_type": "code",
   "execution_count": 15,
   "metadata": {},
   "outputs": [
    {
     "data": {
      "text/plain": [
       "<AxesSubplot:xlabel=\"Profondita'(m)\", ylabel='Pressione(db)'>"
      ]
     },
     "execution_count": 15,
     "metadata": {},
     "output_type": "execute_result"
    },
    {
     "data": {
      "image/png": "[encoded data removed]",
      "text/plain": [
       "<Figure size 432x288 with 1 Axes>"
      ]
     },
     "metadata": {
      "needs_background": "light"
     },
     "output_type": "display_data"
    }
   ],
   "source": [
    "sns.lineplot(data=CTD_raw_df, x=\"Profondita'(m)\", y=\"Pressione(db)\", marker=\"o\")"
   ]
  },
  {
   "cell_type": "code",
   "execution_count": 16,
   "metadata": {},
   "outputs": [
    {
     "data": {
      "text/html": [
       "<table class=\"simpletable\">\n",
       "<caption>OLS Regression Results</caption>\n",
       "<tr>\n",
       "  <th>Dep. Variable:</th>      <td>Pressione(db)</td>  <th>  R-squared (uncentered):</th>      <td>   1.000</td> \n",
       "</tr>\n",
       "<tr>\n",
       "  <th>Model:</th>                   <td>OLS</td>       <th>  Adj. R-squared (uncentered):</th> <td>   1.000</td> \n",
       "</tr>\n",
       "<tr>\n",
       "  <th>Method:</th>             <td>Least Squares</td>  <th>  F-statistic:       </th>          <td>6.193e+08</td>\n",
       "</tr>\n",
       "<tr>\n",
       "  <th>Date:</th>             <td>Sun, 10 Apr 2022</td> <th>  Prob (F-statistic):</th>          <td>5.57e-189</td>\n",
       "</tr>\n",
       "<tr>\n",
       "  <th>Time:</th>                 <td>17:32:32</td>     <th>  Log-Likelihood:    </th>          <td>  362.35</td> \n",
       "</tr>\n",
       "<tr>\n",
       "  <th>No. Observations:</th>      <td>    54</td>      <th>  AIC:               </th>          <td>  -722.7</td> \n",
       "</tr>\n",
       "<tr>\n",
       "  <th>Df Residuals:</th>          <td>    53</td>      <th>  BIC:               </th>          <td>  -720.7</td> \n",
       "</tr>\n",
       "<tr>\n",
       "  <th>Df Model:</th>              <td>     1</td>      <th>                     </th>              <td> </td>    \n",
       "</tr>\n",
       "<tr>\n",
       "  <th>Covariance Type:</th>      <td>nonrobust</td>    <th>                     </th>              <td> </td>    \n",
       "</tr>\n",
       "</table>\n",
       "<table class=\"simpletable\">\n",
       "<tr>\n",
       "         <td></td>           <th>coef</th>     <th>std err</th>      <th>t</th>      <th>P>|t|</th>  <th>[0.025</th>    <th>0.975]</th>  \n",
       "</tr>\n",
       "<tr>\n",
       "  <th>Profondita'(m)</th> <td>    1.0081</td> <td> 4.05e-05</td> <td> 2.49e+04</td> <td> 0.000</td> <td>    1.008</td> <td>    1.008</td>\n",
       "</tr>\n",
       "</table>\n",
       "<table class=\"simpletable\">\n",
       "<tr>\n",
       "  <th>Omnibus:</th>       <td> 9.089</td> <th>  Durbin-Watson:     </th> <td>   1.782</td>\n",
       "</tr>\n",
       "<tr>\n",
       "  <th>Prob(Omnibus):</th> <td> 0.011</td> <th>  Jarque-Bera (JB):  </th> <td>   2.768</td>\n",
       "</tr>\n",
       "<tr>\n",
       "  <th>Skew:</th>          <td>-0.047</td> <th>  Prob(JB):          </th> <td>   0.251</td>\n",
       "</tr>\n",
       "<tr>\n",
       "  <th>Kurtosis:</th>      <td> 1.895</td> <th>  Cond. No.          </th> <td>    1.00</td>\n",
       "</tr>\n",
       "</table><br/><br/>Notes:<br/>[1] R² is computed without centering (uncentered) since the model does not contain a constant.<br/>[2] Standard Errors assume that the covariance matrix of the errors is correctly specified."
      ],
      "text/plain": [
       "<class 'statsmodels.iolib.summary.Summary'>\n",
       "\"\"\"\n",
       "                                 OLS Regression Results                                \n",
       "=======================================================================================\n",
       "Dep. Variable:          Pressione(db)   R-squared (uncentered):                   1.000\n",
       "Model:                            OLS   Adj. R-squared (uncentered):              1.000\n",
       "Method:                 Least Squares   F-statistic:                          6.193e+08\n",
       "Date:                Sun, 10 Apr 2022   Prob (F-statistic):                   5.57e-189\n",
       "Time:                        17:32:32   Log-Likelihood:                          362.35\n",
       "No. Observations:                  54   AIC:                                     -722.7\n",
       "Df Residuals:                      53   BIC:                                     -720.7\n",
       "Df Model:                           1                                                  \n",
       "Covariance Type:            nonrobust                                                  \n",
       "==================================================================================\n",
       "                     coef    std err          t      P>|t|      [0.025      0.975]\n",
       "----------------------------------------------------------------------------------\n",
       "Profondita'(m)     1.0081   4.05e-05   2.49e+04      0.000       1.008       1.008\n",
       "==============================================================================\n",
       "Omnibus:                        9.089   Durbin-Watson:                   1.782\n",
       "Prob(Omnibus):                  0.011   Jarque-Bera (JB):                2.768\n",
       "Skew:                          -0.047   Prob(JB):                        0.251\n",
       "Kurtosis:                       1.895   Cond. No.                         1.00\n",
       "==============================================================================\n",
       "\n",
       "Notes:\n",
       "[1] R² is computed without centering (uncentered) since the model does not contain a constant.\n",
       "[2] Standard Errors assume that the covariance matrix of the errors is correctly specified.\n",
       "\"\"\""
      ]
     },
     "execution_count": 16,
     "metadata": {},
     "output_type": "execute_result"
    }
   ],
   "source": [
    "sm.OLS(CTD_raw_df[\"Pressione(db)\"], CTD_raw_df[[\"Profondita'(m)\"]]).fit().summary()"
   ]
  },
  {
   "cell_type": "markdown",
   "metadata": {},
   "source": [
    "Conducibilita against Salinita & Temperatura (Perfectly Linearly Explained)"
   ]
  },
  {
   "cell_type": "code",
   "execution_count": 17,
   "metadata": {},
   "outputs": [
    {
     "data": {
      "text/html": [
       "<table class=\"simpletable\">\n",
       "<caption>OLS Regression Results</caption>\n",
       "<tr>\n",
       "  <th>Dep. Variable:</th>    <td>Conducibilita'(mS/cm)</td> <th>  R-squared (uncentered):</th>      <td>   1.000</td> \n",
       "</tr>\n",
       "<tr>\n",
       "  <th>Model:</th>                     <td>OLS</td>          <th>  Adj. R-squared (uncentered):</th> <td>   1.000</td> \n",
       "</tr>\n",
       "<tr>\n",
       "  <th>Method:</th>               <td>Least Squares</td>     <th>  F-statistic:       </th>          <td>3.278e+05</td>\n",
       "</tr>\n",
       "<tr>\n",
       "  <th>Date:</th>               <td>Sun, 10 Apr 2022</td>    <th>  Prob (F-statistic):</th>          <td>2.40e-107</td>\n",
       "</tr>\n",
       "<tr>\n",
       "  <th>Time:</th>                   <td>17:32:32</td>        <th>  Log-Likelihood:    </th>          <td> -31.616</td> \n",
       "</tr>\n",
       "<tr>\n",
       "  <th>No. Observations:</th>        <td>    54</td>         <th>  AIC:               </th>          <td>   67.23</td> \n",
       "</tr>\n",
       "<tr>\n",
       "  <th>Df Residuals:</th>            <td>    52</td>         <th>  BIC:               </th>          <td>   71.21</td> \n",
       "</tr>\n",
       "<tr>\n",
       "  <th>Df Model:</th>                <td>     2</td>         <th>                     </th>              <td> </td>    \n",
       "</tr>\n",
       "<tr>\n",
       "  <th>Covariance Type:</th>        <td>nonrobust</td>       <th>                     </th>              <td> </td>    \n",
       "</tr>\n",
       "</table>\n",
       "<table class=\"simpletable\">\n",
       "<tr>\n",
       "         <td></td>            <th>coef</th>     <th>std err</th>      <th>t</th>      <th>P>|t|</th>  <th>[0.025</th>    <th>0.975]</th>  \n",
       "</tr>\n",
       "<tr>\n",
       "  <th>Salinita'(PSU)</th>  <td>    0.7754</td> <td>    0.006</td> <td>  122.795</td> <td> 0.000</td> <td>    0.763</td> <td>    0.788</td>\n",
       "</tr>\n",
       "<tr>\n",
       "  <th>Temperatura(°C)</th> <td>    1.0934</td> <td>    0.012</td> <td>   87.888</td> <td> 0.000</td> <td>    1.068</td> <td>    1.118</td>\n",
       "</tr>\n",
       "</table>\n",
       "<table class=\"simpletable\">\n",
       "<tr>\n",
       "  <th>Omnibus:</th>       <td>26.987</td> <th>  Durbin-Watson:     </th> <td>   0.899</td>\n",
       "</tr>\n",
       "<tr>\n",
       "  <th>Prob(Omnibus):</th> <td> 0.000</td> <th>  Jarque-Bera (JB):  </th> <td>  43.285</td>\n",
       "</tr>\n",
       "<tr>\n",
       "  <th>Skew:</th>          <td>-1.740</td> <th>  Prob(JB):          </th> <td>3.99e-10</td>\n",
       "</tr>\n",
       "<tr>\n",
       "  <th>Kurtosis:</th>      <td> 5.669</td> <th>  Cond. No.          </th> <td>    9.50</td>\n",
       "</tr>\n",
       "</table><br/><br/>Notes:<br/>[1] R² is computed without centering (uncentered) since the model does not contain a constant.<br/>[2] Standard Errors assume that the covariance matrix of the errors is correctly specified."
      ],
      "text/plain": [
       "<class 'statsmodels.iolib.summary.Summary'>\n",
       "\"\"\"\n",
       "                                  OLS Regression Results                                  \n",
       "==========================================================================================\n",
       "Dep. Variable:     Conducibilita'(mS/cm)   R-squared (uncentered):                   1.000\n",
       "Model:                               OLS   Adj. R-squared (uncentered):              1.000\n",
       "Method:                    Least Squares   F-statistic:                          3.278e+05\n",
       "Date:                   Sun, 10 Apr 2022   Prob (F-statistic):                   2.40e-107\n",
       "Time:                           17:32:32   Log-Likelihood:                         -31.616\n",
       "No. Observations:                     54   AIC:                                      67.23\n",
       "Df Residuals:                         52   BIC:                                      71.21\n",
       "Df Model:                              2                                                  \n",
       "Covariance Type:               nonrobust                                                  \n",
       "===================================================================================\n",
       "                      coef    std err          t      P>|t|      [0.025      0.975]\n",
       "-----------------------------------------------------------------------------------\n",
       "Salinita'(PSU)      0.7754      0.006    122.795      0.000       0.763       0.788\n",
       "Temperatura(°C)     1.0934      0.012     87.888      0.000       1.068       1.118\n",
       "==============================================================================\n",
       "Omnibus:                       26.987   Durbin-Watson:                   0.899\n",
       "Prob(Omnibus):                  0.000   Jarque-Bera (JB):               43.285\n",
       "Skew:                          -1.740   Prob(JB):                     3.99e-10\n",
       "Kurtosis:                       5.669   Cond. No.                         9.50\n",
       "==============================================================================\n",
       "\n",
       "Notes:\n",
       "[1] R² is computed without centering (uncentered) since the model does not contain a constant.\n",
       "[2] Standard Errors assume that the covariance matrix of the errors is correctly specified.\n",
       "\"\"\""
      ]
     },
     "execution_count": 17,
     "metadata": {},
     "output_type": "execute_result"
    }
   ],
   "source": [
    "sm.OLS(CTD_raw_df[\"Conducibilita'(mS/cm)\"], CTD_raw_df[[\"Salinita'(PSU)\", \"Temperatura(°C)\"]]).fit().summary()"
   ]
  },
  {
   "cell_type": "markdown",
   "metadata": {},
   "source": [
    "## Ossigeno"
   ]
  },
  {
   "cell_type": "code",
   "execution_count": 22,
   "metadata": {},
   "outputs": [
    {
     "data": {
      "text/plain": [
       "<AxesSubplot:title={'center':'Anomaly Proportion by Columns'}>"
      ]
     },
     "execution_count": 22,
     "metadata": {},
     "output_type": "execute_result"
    },
    {
     "data": {
      "image/png": "[encoded data removed]",
      "text/plain": [
       "<Figure size 432x288 with 1 Axes>"
      ]
     },
     "metadata": {
      "needs_background": "light"
     },
     "output_type": "display_data"
    }
   ],
   "source": [
    "(Ossigeno_raw_df == -9999).mean(axis=0).plot.bar(title=\"Anomaly Proportion by Columns\")"
   ]
  },
  {
   "cell_type": "code",
   "execution_count": 19,
   "metadata": {},
   "outputs": [
    {
     "data": {
      "text/html": [
       "<div>\n",
       "<style scoped>\n",
       "    .dataframe tbody tr th:only-of-type {\n",
       "        vertical-align: middle;\n",
       "    }\n",
       "\n",
       "    .dataframe tbody tr th {\n",
       "        vertical-align: top;\n",
       "    }\n",
       "\n",
       "    .dataframe thead th {\n",
       "        text-align: right;\n",
       "    }\n",
       "</style>\n",
       "<table border=\"1\" class=\"dataframe\">\n",
       "  <thead>\n",
       "    <tr style=\"text-align: right;\">\n",
       "      <th></th>\n",
       "      <th>Data</th>\n",
       "      <th>Ora(UTC)</th>\n",
       "      <th>Pressione(db)</th>\n",
       "      <th>Ossigeno(%)</th>\n",
       "      <th>Ossigeno(umol/l)</th>\n",
       "      <th>Ossigeno(mg/l)</th>\n",
       "      <th>Ossigeno(ml/l)</th>\n",
       "      <th>Temperatura(°C)</th>\n",
       "      <th>Tensione_Batteria(V)</th>\n",
       "      <th>Time</th>\n",
       "    </tr>\n",
       "  </thead>\n",
       "  <tbody>\n",
       "    <tr>\n",
       "      <th>42</th>\n",
       "      <td>2021-10-07</td>\n",
       "      <td>07:00:32</td>\n",
       "      <td>0.525</td>\n",
       "      <td>82.690002</td>\n",
       "      <td>-9999.0</td>\n",
       "      <td>-9999.0</td>\n",
       "      <td>-9999.0</td>\n",
       "      <td>21.639999</td>\n",
       "      <td>4.061</td>\n",
       "      <td>2021-10-07 07:00:32</td>\n",
       "    </tr>\n",
       "    <tr>\n",
       "      <th>60</th>\n",
       "      <td>2021-10-07</td>\n",
       "      <td>16:00:32</td>\n",
       "      <td>0.862</td>\n",
       "      <td>90.089996</td>\n",
       "      <td>-9999.0</td>\n",
       "      <td>-9999.0</td>\n",
       "      <td>-9999.0</td>\n",
       "      <td>21.780001</td>\n",
       "      <td>4.099</td>\n",
       "      <td>2021-10-07 16:00:32</td>\n",
       "    </tr>\n",
       "    <tr>\n",
       "      <th>124</th>\n",
       "      <td>2021-10-09</td>\n",
       "      <td>00:00:29</td>\n",
       "      <td>0.892</td>\n",
       "      <td>86.900002</td>\n",
       "      <td>-9999.0</td>\n",
       "      <td>-9999.0</td>\n",
       "      <td>-9999.0</td>\n",
       "      <td>21.100000</td>\n",
       "      <td>4.060</td>\n",
       "      <td>2021-10-09 00:00:29</td>\n",
       "    </tr>\n",
       "    <tr>\n",
       "      <th>402</th>\n",
       "      <td>2021-10-14</td>\n",
       "      <td>20:00:14</td>\n",
       "      <td>1.001</td>\n",
       "      <td>93.139999</td>\n",
       "      <td>-9999.0</td>\n",
       "      <td>-9999.0</td>\n",
       "      <td>-9999.0</td>\n",
       "      <td>20.000000</td>\n",
       "      <td>3.957</td>\n",
       "      <td>2021-10-14 20:00:14</td>\n",
       "    </tr>\n",
       "    <tr>\n",
       "      <th>461</th>\n",
       "      <td>2021-10-16</td>\n",
       "      <td>01:30:11</td>\n",
       "      <td>0.951</td>\n",
       "      <td>89.440002</td>\n",
       "      <td>-9999.0</td>\n",
       "      <td>-9999.0</td>\n",
       "      <td>-9999.0</td>\n",
       "      <td>19.700001</td>\n",
       "      <td>3.912</td>\n",
       "      <td>2021-10-16 01:30:11</td>\n",
       "    </tr>\n",
       "    <tr>\n",
       "      <th>...</th>\n",
       "      <td>...</td>\n",
       "      <td>...</td>\n",
       "      <td>...</td>\n",
       "      <td>...</td>\n",
       "      <td>...</td>\n",
       "      <td>...</td>\n",
       "      <td>...</td>\n",
       "      <td>...</td>\n",
       "      <td>...</td>\n",
       "      <td>...</td>\n",
       "    </tr>\n",
       "    <tr>\n",
       "      <th>7571</th>\n",
       "      <td>2022-03-30</td>\n",
       "      <td>02:01:05</td>\n",
       "      <td>1.021</td>\n",
       "      <td>97.559998</td>\n",
       "      <td>-9999.0</td>\n",
       "      <td>-9999.0</td>\n",
       "      <td>-9999.0</td>\n",
       "      <td>13.770000</td>\n",
       "      <td>3.435</td>\n",
       "      <td>2022-03-30 02:01:05</td>\n",
       "    </tr>\n",
       "    <tr>\n",
       "      <th>7572</th>\n",
       "      <td>2022-03-30</td>\n",
       "      <td>02:30:58</td>\n",
       "      <td>1.021</td>\n",
       "      <td>96.629997</td>\n",
       "      <td>-9999.0</td>\n",
       "      <td>-9999.0</td>\n",
       "      <td>-9999.0</td>\n",
       "      <td>13.740000</td>\n",
       "      <td>3.444</td>\n",
       "      <td>2022-03-30 02:30:58</td>\n",
       "    </tr>\n",
       "    <tr>\n",
       "      <th>7575</th>\n",
       "      <td>2022-03-30</td>\n",
       "      <td>04:00:56</td>\n",
       "      <td>1.021</td>\n",
       "      <td>96.889999</td>\n",
       "      <td>-9999.0</td>\n",
       "      <td>-9999.0</td>\n",
       "      <td>-9999.0</td>\n",
       "      <td>13.690000</td>\n",
       "      <td>3.445</td>\n",
       "      <td>2022-03-30 04:00:56</td>\n",
       "    </tr>\n",
       "    <tr>\n",
       "      <th>7600</th>\n",
       "      <td>2022-03-30</td>\n",
       "      <td>16:31:06</td>\n",
       "      <td>0.971</td>\n",
       "      <td>97.400002</td>\n",
       "      <td>-9999.0</td>\n",
       "      <td>-9999.0</td>\n",
       "      <td>-9999.0</td>\n",
       "      <td>13.800000</td>\n",
       "      <td>3.448</td>\n",
       "      <td>2022-03-30 16:31:06</td>\n",
       "    </tr>\n",
       "    <tr>\n",
       "      <th>7637</th>\n",
       "      <td>2022-03-31</td>\n",
       "      <td>11:00:55</td>\n",
       "      <td>0.882</td>\n",
       "      <td>97.330002</td>\n",
       "      <td>-9999.0</td>\n",
       "      <td>-9999.0</td>\n",
       "      <td>-9999.0</td>\n",
       "      <td>13.720000</td>\n",
       "      <td>3.440</td>\n",
       "      <td>2022-03-31 11:00:55</td>\n",
       "    </tr>\n",
       "  </tbody>\n",
       "</table>\n",
       "<p>305 rows × 10 columns</p>\n",
       "</div>"
      ],
      "text/plain": [
       "0           Data  Ora(UTC)  Pressione(db)  Ossigeno(%)  Ossigeno(umol/l)  \\\n",
       "42    2021-10-07  07:00:32          0.525    82.690002           -9999.0   \n",
       "60    2021-10-07  16:00:32          0.862    90.089996           -9999.0   \n",
       "124   2021-10-09  00:00:29          0.892    86.900002           -9999.0   \n",
       "402   2021-10-14  20:00:14          1.001    93.139999           -9999.0   \n",
       "461   2021-10-16  01:30:11          0.951    89.440002           -9999.0   \n",
       "...          ...       ...            ...          ...               ...   \n",
       "7571  2022-03-30  02:01:05          1.021    97.559998           -9999.0   \n",
       "7572  2022-03-30  02:30:58          1.021    96.629997           -9999.0   \n",
       "7575  2022-03-30  04:00:56          1.021    96.889999           -9999.0   \n",
       "7600  2022-03-30  16:31:06          0.971    97.400002           -9999.0   \n",
       "7637  2022-03-31  11:00:55          0.882    97.330002           -9999.0   \n",
       "\n",
       "0     Ossigeno(mg/l)  Ossigeno(ml/l)  Temperatura(°C)  Tensione_Batteria(V)  \\\n",
       "42           -9999.0         -9999.0        21.639999                 4.061   \n",
       "60           -9999.0         -9999.0        21.780001                 4.099   \n",
       "124          -9999.0         -9999.0        21.100000                 4.060   \n",
       "402          -9999.0         -9999.0        20.000000                 3.957   \n",
       "461          -9999.0         -9999.0        19.700001                 3.912   \n",
       "...              ...             ...              ...                   ...   \n",
       "7571         -9999.0         -9999.0        13.770000                 3.435   \n",
       "7572         -9999.0         -9999.0        13.740000                 3.444   \n",
       "7575         -9999.0         -9999.0        13.690000                 3.445   \n",
       "7600         -9999.0         -9999.0        13.800000                 3.448   \n",
       "7637         -9999.0         -9999.0        13.720000                 3.440   \n",
       "\n",
       "0                   Time  \n",
       "42   2021-10-07 07:00:32  \n",
       "60   2021-10-07 16:00:32  \n",
       "124  2021-10-09 00:00:29  \n",
       "402  2021-10-14 20:00:14  \n",
       "461  2021-10-16 01:30:11  \n",
       "...                  ...  \n",
       "7571 2022-03-30 02:01:05  \n",
       "7572 2022-03-30 02:30:58  \n",
       "7575 2022-03-30 04:00:56  \n",
       "7600 2022-03-30 16:31:06  \n",
       "7637 2022-03-31 11:00:55  \n",
       "\n",
       "[305 rows x 10 columns]"
      ]
     },
     "execution_count": 19,
     "metadata": {},
     "output_type": "execute_result"
    }
   ],
   "source": [
    "anomaly_temp = Ossigeno_raw_df[((Ossigeno_raw_df == -9999).sum(axis=1) > 0)]\n",
    "anomaly_temp"
   ]
  },
  {
   "cell_type": "code",
   "execution_count": 20,
   "metadata": {},
   "outputs": [
    {
     "name": "stdout",
     "output_type": "stream",
     "text": [
      "<class 'pandas.core.frame.DataFrame'>\n",
      "Int64Index: 7398 entries, 1 to 7399\n",
      "Data columns (total 12 columns):\n",
      " #   Column                    Non-Null Count  Dtype         \n",
      "---  ------                    --------------  -----         \n",
      " 0   Data                      7398 non-null   object        \n",
      " 1   Ora(UTC)                  7398 non-null   object        \n",
      " 2   Profondita'(m)            7398 non-null   float32       \n",
      " 3   Pressione(db)             7398 non-null   float32       \n",
      " 4   Conducibilita'(mS/cm)     7398 non-null   float32       \n",
      " 5   Temperatura(°C)           7398 non-null   float32       \n",
      " 6   Tensione_Batteria(V)      7398 non-null   float32       \n",
      " 7   Salinita'(PSU)            7398 non-null   float32       \n",
      " 8   Densita'(Kg/m^3)          7398 non-null   float32       \n",
      " 9   Densita'(Kg/m^3-1000)     7398 non-null   float32       \n",
      " 10  Velocita'_del_Suono(m/s)  7398 non-null   float32       \n",
      " 11  Time                      7398 non-null   datetime64[ns]\n",
      "dtypes: datetime64[ns](1), float32(9), object(2)\n",
      "memory usage: 491.3+ KB\n"
     ]
    },
    {
     "data": {
      "text/html": [
       "<div>\n",
       "<style scoped>\n",
       "    .dataframe tbody tr th:only-of-type {\n",
       "        vertical-align: middle;\n",
       "    }\n",
       "\n",
       "    .dataframe tbody tr th {\n",
       "        vertical-align: top;\n",
       "    }\n",
       "\n",
       "    .dataframe thead th {\n",
       "        text-align: right;\n",
       "    }\n",
       "</style>\n",
       "<table border=\"1\" class=\"dataframe\">\n",
       "  <thead>\n",
       "    <tr style=\"text-align: right;\">\n",
       "      <th></th>\n",
       "      <th>Profondita'(m)</th>\n",
       "      <th>Pressione(db)</th>\n",
       "      <th>Conducibilita'(mS/cm)</th>\n",
       "      <th>Temperatura(°C)</th>\n",
       "      <th>Tensione_Batteria(V)</th>\n",
       "      <th>Salinita'(PSU)</th>\n",
       "      <th>Densita'(Kg/m^3)</th>\n",
       "      <th>Densita'(Kg/m^3-1000)</th>\n",
       "      <th>Velocita'_del_Suono(m/s)</th>\n",
       "    </tr>\n",
       "  </thead>\n",
       "  <tbody>\n",
       "    <tr>\n",
       "      <th>count</th>\n",
       "      <td>7398.000000</td>\n",
       "      <td>7398.000000</td>\n",
       "      <td>7398.000000</td>\n",
       "      <td>7398.000000</td>\n",
       "      <td>7398.000000</td>\n",
       "      <td>7398.000000</td>\n",
       "      <td>7398.000000</td>\n",
       "      <td>7398.000000</td>\n",
       "      <td>7398.000000</td>\n",
       "    </tr>\n",
       "    <tr>\n",
       "      <th>mean</th>\n",
       "      <td>1.166397</td>\n",
       "      <td>1.175836</td>\n",
       "      <td>43.934010</td>\n",
       "      <td>14.115006</td>\n",
       "      <td>3.773206</td>\n",
       "      <td>36.739773</td>\n",
       "      <td>1027.493408</td>\n",
       "      <td>27.492550</td>\n",
       "      <td>1505.726196</td>\n",
       "    </tr>\n",
       "    <tr>\n",
       "      <th>std</th>\n",
       "      <td>0.099095</td>\n",
       "      <td>0.099899</td>\n",
       "      <td>2.628942</td>\n",
       "      <td>2.111574</td>\n",
       "      <td>0.179691</td>\n",
       "      <td>1.131359</td>\n",
       "      <td>0.938540</td>\n",
       "      <td>0.938538</td>\n",
       "      <td>6.881653</td>\n",
       "    </tr>\n",
       "    <tr>\n",
       "      <th>min</th>\n",
       "      <td>0.797000</td>\n",
       "      <td>0.803000</td>\n",
       "      <td>34.400002</td>\n",
       "      <td>11.110000</td>\n",
       "      <td>3.442000</td>\n",
       "      <td>29.428400</td>\n",
       "      <td>1022.232788</td>\n",
       "      <td>22.232800</td>\n",
       "      <td>1490.918945</td>\n",
       "    </tr>\n",
       "    <tr>\n",
       "      <th>25%</th>\n",
       "      <td>1.111000</td>\n",
       "      <td>1.120000</td>\n",
       "      <td>42.590000</td>\n",
       "      <td>12.700000</td>\n",
       "      <td>3.621000</td>\n",
       "      <td>36.544851</td>\n",
       "      <td>1026.940613</td>\n",
       "      <td>26.940650</td>\n",
       "      <td>1501.281860</td>\n",
       "    </tr>\n",
       "    <tr>\n",
       "      <th>50%</th>\n",
       "      <td>1.179000</td>\n",
       "      <td>1.189000</td>\n",
       "      <td>43.470001</td>\n",
       "      <td>13.180000</td>\n",
       "      <td>3.777000</td>\n",
       "      <td>37.058899</td>\n",
       "      <td>1027.746765</td>\n",
       "      <td>27.746750</td>\n",
       "      <td>1503.186096</td>\n",
       "    </tr>\n",
       "    <tr>\n",
       "      <th>75%</th>\n",
       "      <td>1.249000</td>\n",
       "      <td>1.259000</td>\n",
       "      <td>45.310001</td>\n",
       "      <td>15.600000</td>\n",
       "      <td>3.910000</td>\n",
       "      <td>37.405998</td>\n",
       "      <td>1028.178558</td>\n",
       "      <td>28.178575</td>\n",
       "      <td>1510.707275</td>\n",
       "    </tr>\n",
       "    <tr>\n",
       "      <th>max</th>\n",
       "      <td>1.396000</td>\n",
       "      <td>1.407000</td>\n",
       "      <td>50.860001</td>\n",
       "      <td>19.950001</td>\n",
       "      <td>4.079000</td>\n",
       "      <td>37.838501</td>\n",
       "      <td>1028.703735</td>\n",
       "      <td>28.703699</td>\n",
       "      <td>1524.038208</td>\n",
       "    </tr>\n",
       "  </tbody>\n",
       "</table>\n",
       "</div>"
      ],
      "text/plain": [
       "0      Profondita'(m)  Pressione(db)  Conducibilita'(mS/cm)  Temperatura(°C)  \\\n",
       "count     7398.000000    7398.000000            7398.000000      7398.000000   \n",
       "mean         1.166397       1.175836              43.934010        14.115006   \n",
       "std          0.099095       0.099899               2.628942         2.111574   \n",
       "min          0.797000       0.803000              34.400002        11.110000   \n",
       "25%          1.111000       1.120000              42.590000        12.700000   \n",
       "50%          1.179000       1.189000              43.470001        13.180000   \n",
       "75%          1.249000       1.259000              45.310001        15.600000   \n",
       "max          1.396000       1.407000              50.860001        19.950001   \n",
       "\n",
       "0      Tensione_Batteria(V)  Salinita'(PSU)  Densita'(Kg/m^3)  \\\n",
       "count           7398.000000     7398.000000       7398.000000   \n",
       "mean               3.773206       36.739773       1027.493408   \n",
       "std                0.179691        1.131359          0.938540   \n",
       "min                3.442000       29.428400       1022.232788   \n",
       "25%                3.621000       36.544851       1026.940613   \n",
       "50%                3.777000       37.058899       1027.746765   \n",
       "75%                3.910000       37.405998       1028.178558   \n",
       "max                4.079000       37.838501       1028.703735   \n",
       "\n",
       "0      Densita'(Kg/m^3-1000)  Velocita'_del_Suono(m/s)  \n",
       "count            7398.000000               7398.000000  \n",
       "mean               27.492550               1505.726196  \n",
       "std                 0.938538                  6.881653  \n",
       "min                22.232800               1490.918945  \n",
       "25%                26.940650               1501.281860  \n",
       "50%                27.746750               1503.186096  \n",
       "75%                28.178575               1510.707275  \n",
       "max                28.703699               1524.038208  "
      ]
     },
     "execution_count": 20,
     "metadata": {},
     "output_type": "execute_result"
    }
   ],
   "source": [
    "try:\n",
    "    Ossigeno_raw_df.drop(anomaly_temp.index, axis=0, inplace=True)\n",
    "except:\n",
    "    pass\n",
    "Conducibilita_raw_df.info()\n",
    "Conducibilita_raw_df.describe()"
   ]
  },
  {
   "cell_type": "code",
   "execution_count": 21,
   "metadata": {},
   "outputs": [
    {
     "name": "stdout",
     "output_type": "stream",
     "text": [
      "Data\n",
      "Ora(UTC)\n"
     ]
    },
    {
     "data": {
      "image/png": "[encoded data removed]",
      "text/plain": [
       "<Figure size 432x288 with 1 Axes>"
      ]
     },
     "metadata": {
      "needs_background": "light"
     },
     "output_type": "display_data"
    },
    {
     "data": {
      "image/png": "[encoded data removed]",
      "text/plain": [
       "<Figure size 432x288 with 1 Axes>"
      ]
     },
     "metadata": {
      "needs_background": "light"
     },
     "output_type": "display_data"
    },
    {
     "data": {
      "image/png": "[encoded data removed]",
      "text/plain": [
       "<Figure size 432x288 with 1 Axes>"
      ]
     },
     "metadata": {
      "needs_background": "light"
     },
     "output_type": "display_data"
    },
    {
     "data": {
      "image/png": "[encoded data removed]",
      "text/plain": [
       "<Figure size 432x288 with 1 Axes>"
      ]
     },
     "metadata": {
      "needs_background": "light"
     },
     "output_type": "display_data"
    },
    {
     "data": {
      "image/png": "[encoded data removed]",
      "text/plain": [
       "<Figure size 432x288 with 1 Axes>"
      ]
     },
     "metadata": {
      "needs_background": "light"
     },
     "output_type": "display_data"
    },
    {
     "data": {
      "image/png": "[encoded data removed]",
      "text/plain": [
       "<Figure size 432x288 with 1 Axes>"
      ]
     },
     "metadata": {
      "needs_background": "light"
     },
     "output_type": "display_data"
    },
    {
     "data": {
      "image/png": "[encoded data removed]",
      "text/plain": [
       "<Figure size 432x288 with 1 Axes>"
      ]
     },
     "metadata": {
      "needs_background": "light"
     },
     "output_type": "display_data"
    },
    {
     "name": "stdout",
     "output_type": "stream",
     "text": [
      "Time\n"
     ]
    },
    {
     "data": {
      "image/png": "[encoded data removed]",
      "text/plain": [
       "<Figure size 432x288 with 1 Axes>"
      ]
     },
     "metadata": {
      "needs_background": "light"
     },
     "output_type": "display_data"
    }
   ],
   "source": [
    "for column in Ossigeno_raw_df.columns:\n",
    "    try:\n",
    "        Ossigeno_raw_df[[column]].boxplot()\n",
    "        plt.show()\n",
    "    except:\n",
    "        print(column)"
   ]
  },
  {
   "cell_type": "markdown",
   "metadata": {},
   "source": [
    "### Time Span of Datasets"
   ]
  },
  {
   "cell_type": "code",
   "execution_count": 16,
   "metadata": {},
   "outputs": [],
   "source": [
    "CTD_raw_df.columns = map(lambda x: x+\"_CTD\", CTD_raw_df.columns)\n",
    "Winkler_raw_df.columns = map(lambda x: x+\"_Winkler\", Winkler_raw_df.columns)\n",
    "Ossigeno_raw_df.columns = map(lambda x: x+\"_Ossigeno\", Ossigeno_raw_df.columns)\n",
    "Conducibilita_raw_df.columns = map(lambda x: x+\"_Conducibilita\", Conducibilita_raw_df.columns)"
   ]
  },
  {
   "cell_type": "code",
   "execution_count": 21,
   "metadata": {},
   "outputs": [
    {
     "data": {
      "application/vnd.plotly.v1+json": {
       "config": {
        "plotlyServerURL": "https://plot.ly"
       },
       "data": [
        {
         "fill": "toself",
         "fillcolor": "rgb(214, 39, 40)",
         "hoverinfo": "name",
         "legendgroup": "rgb(214, 39, 40)",
         "mode": "none",
         "name": "Conducibilita",
         "type": "scatter",
         "x": [
          "2021-10-22",
          "2022-03-31",
          "2022-03-31",
          "2021-10-22"
         ],
         "y": [
          2.8,
          2.8,
          3.2,
          3.2
         ]
        },
        {
         "fill": "toself",
         "fillcolor": "rgb(255, 127, 14)",
         "hoverinfo": "name",
         "legendgroup": "rgb(255, 127, 14)",
         "mode": "none",
         "name": "Winkler",
         "type": "scatter",
         "x": [
          "2021-11-10",
          "2022-03-30",
          "2022-03-30",
          "2021-11-10"
         ],
         "y": [
          0.8,
          0.8,
          1.2,
          1.2
         ]
        },
        {
         "fill": "toself",
         "fillcolor": "rgb(31, 119, 180)",
         "hoverinfo": "name",
         "legendgroup": "rgb(31, 119, 180)",
         "mode": "none",
         "name": "CTD",
         "type": "scatter",
         "x": [
          "2021-03-25",
          "2022-03-30",
          "2022-03-30",
          "2021-03-25"
         ],
         "y": [
          -0.2,
          -0.2,
          0.2,
          0.2
         ]
        },
        {
         "fill": "toself",
         "fillcolor": "rgb(44, 160, 44)",
         "hoverinfo": "name",
         "legendgroup": "rgb(44, 160, 44)",
         "mode": "none",
         "name": "Ossigeno",
         "type": "scatter",
         "x": [
          "2021-10-06",
          "2022-03-31",
          "2022-03-31",
          "2021-10-06"
         ],
         "y": [
          1.8,
          1.8,
          2.2,
          2.2
         ]
        },
        {
         "legendgroup": "rgb(214, 39, 40)",
         "marker": {
          "color": "rgb(214, 39, 40)",
          "opacity": 0,
          "size": 1
         },
         "mode": "markers",
         "name": "",
         "showlegend": false,
         "text": [
          null,
          null
         ],
         "type": "scatter",
         "x": [
          "2021-10-22",
          "2022-03-31"
         ],
         "y": [
          3,
          3
         ]
        },
        {
         "legendgroup": "rgb(255, 127, 14)",
         "marker": {
          "color": "rgb(255, 127, 14)",
          "opacity": 0,
          "size": 1
         },
         "mode": "markers",
         "name": "",
         "showlegend": false,
         "text": [
          null,
          null
         ],
         "type": "scatter",
         "x": [
          "2021-11-10",
          "2022-03-30"
         ],
         "y": [
          1,
          1
         ]
        },
        {
         "legendgroup": "rgb(31, 119, 180)",
         "marker": {
          "color": "rgb(31, 119, 180)",
          "opacity": 0,
          "size": 1
         },
         "mode": "markers",
         "name": "",
         "showlegend": false,
         "text": [
          null,
          null
         ],
         "type": "scatter",
         "x": [
          "2021-03-25",
          "2022-03-30"
         ],
         "y": [
          0,
          0
         ]
        },
        {
         "legendgroup": "rgb(44, 160, 44)",
         "marker": {
          "color": "rgb(44, 160, 44)",
          "opacity": 0,
          "size": 1
         },
         "mode": "markers",
         "name": "",
         "showlegend": false,
         "text": [
          null,
          null
         ],
         "type": "scatter",
         "x": [
          "2021-10-06",
          "2022-03-31"
         ],
         "y": [
          2,
          2
         ]
        }
       ],
       "layout": {
        "height": 600,
        "hovermode": "closest",
        "showlegend": false,
        "template": {
         "data": {
          "bar": [
           {
            "error_x": {
             "color": "#2a3f5f"
            },
            "error_y": {
             "color": "#2a3f5f"
            },
            "marker": {
             "line": {
              "color": "#E5ECF6",
              "width": 0.5
             }
            },
            "type": "bar"
           }
          ],
          "barpolar": [
           {
            "marker": {
             "line": {
              "color": "#E5ECF6",
              "width": 0.5
             }
            },
            "type": "barpolar"
           }
          ],
          "carpet": [
           {
            "aaxis": {
             "endlinecolor": "#2a3f5f",
             "gridcolor": "white",
             "linecolor": "white",
             "minorgridcolor": "white",
             "startlinecolor": "#2a3f5f"
            },
            "baxis": {
             "endlinecolor": "#2a3f5f",
             "gridcolor": "white",
             "linecolor": "white",
             "minorgridcolor": "white",
             "startlinecolor": "#2a3f5f"
            },
            "type": "carpet"
           }
          ],
          "choropleth": [
           {
            "colorbar": {
             "outlinewidth": 0,
             "ticks": ""
            },
            "type": "choropleth"
           }
          ],
          "contour": [
           {
            "colorbar": {
             "outlinewidth": 0,
             "ticks": ""
            },
            "colorscale": [
             [
              0,
              "#0d0887"
             ],
             [
              0.1111111111111111,
              "#46039f"
             ],
             [
              0.2222222222222222,
              "#7201a8"
             ],
             [
              0.3333333333333333,
              "#9c179e"
             ],
             [
              0.4444444444444444,
              "#bd3786"
             ],
             [
              0.5555555555555556,
              "#d8576b"
             ],
             [
              0.6666666666666666,
              "#ed7953"
             ],
             [
              0.7777777777777778,
              "#fb9f3a"
             ],
             [
              0.8888888888888888,
              "#fdca26"
             ],
             [
              1,
              "#f0f921"
             ]
            ],
            "type": "contour"
           }
          ],
          "contourcarpet": [
           {
            "colorbar": {
             "outlinewidth": 0,
             "ticks": ""
            },
            "type": "contourcarpet"
           }
          ],
          "heatmap": [
           {
            "colorbar": {
             "outlinewidth": 0,
             "ticks": ""
            },
            "colorscale": [
             [
              0,
              "#0d0887"
             ],
             [
              0.1111111111111111,
              "#46039f"
             ],
             [
              0.2222222222222222,
              "#7201a8"
             ],
             [
              0.3333333333333333,
              "#9c179e"
             ],
             [
              0.4444444444444444,
              "#bd3786"
             ],
             [
              0.5555555555555556,
              "#d8576b"
             ],
             [
              0.6666666666666666,
              "#ed7953"
             ],
             [
              0.7777777777777778,
              "#fb9f3a"
             ],
             [
              0.8888888888888888,
              "#fdca26"
             ],
             [
              1,
              "#f0f921"
             ]
            ],
            "type": "heatmap"
           }
          ],
          "heatmapgl": [
           {
            "colorbar": {
             "outlinewidth": 0,
             "ticks": ""
            },
            "colorscale": [
             [
              0,
              "#0d0887"
             ],
             [
              0.1111111111111111,
              "#46039f"
             ],
             [
              0.2222222222222222,
              "#7201a8"
             ],
             [
              0.3333333333333333,
              "#9c179e"
             ],
             [
              0.4444444444444444,
              "#bd3786"
             ],
             [
              0.5555555555555556,
              "#d8576b"
             ],
             [
              0.6666666666666666,
              "#ed7953"
             ],
             [
              0.7777777777777778,
              "#fb9f3a"
             ],
             [
              0.8888888888888888,
              "#fdca26"
             ],
             [
              1,
              "#f0f921"
             ]
            ],
            "type": "heatmapgl"
           }
          ],
          "histogram": [
           {
            "marker": {
             "colorbar": {
              "outlinewidth": 0,
              "ticks": ""
             }
            },
            "type": "histogram"
           }
          ],
          "histogram2d": [
           {
            "colorbar": {
             "outlinewidth": 0,
             "ticks": ""
            },
            "colorscale": [
             [
              0,
              "#0d0887"
             ],
             [
              0.1111111111111111,
              "#46039f"
             ],
             [
              0.2222222222222222,
              "#7201a8"
             ],
             [
              0.3333333333333333,
              "#9c179e"
             ],
             [
              0.4444444444444444,
              "#bd3786"
             ],
             [
              0.5555555555555556,
              "#d8576b"
             ],
             [
              0.6666666666666666,
              "#ed7953"
             ],
             [
              0.7777777777777778,
              "#fb9f3a"
             ],
             [
              0.8888888888888888,
              "#fdca26"
             ],
             [
              1,
              "#f0f921"
             ]
            ],
            "type": "histogram2d"
           }
          ],
          "histogram2dcontour": [
           {
            "colorbar": {
             "outlinewidth": 0,
             "ticks": ""
            },
            "colorscale": [
             [
              0,
              "#0d0887"
             ],
             [
              0.1111111111111111,
              "#46039f"
             ],
             [
              0.2222222222222222,
              "#7201a8"
             ],
             [
              0.3333333333333333,
              "#9c179e"
             ],
             [
              0.4444444444444444,
              "#bd3786"
             ],
             [
              0.5555555555555556,
              "#d8576b"
             ],
             [
              0.6666666666666666,
              "#ed7953"
             ],
             [
              0.7777777777777778,
              "#fb9f3a"
             ],
             [
              0.8888888888888888,
              "#fdca26"
             ],
             [
              1,
              "#f0f921"
             ]
            ],
            "type": "histogram2dcontour"
           }
          ],
          "mesh3d": [
           {
            "colorbar": {
             "outlinewidth": 0,
             "ticks": ""
            },
            "type": "mesh3d"
           }
          ],
          "parcoords": [
           {
            "line": {
             "colorbar": {
              "outlinewidth": 0,
              "ticks": ""
             }
            },
            "type": "parcoords"
           }
          ],
          "pie": [
           {
            "automargin": true,
            "type": "pie"
           }
          ],
          "scatter": [
           {
            "marker": {
             "colorbar": {
              "outlinewidth": 0,
              "ticks": ""
             }
            },
            "type": "scatter"
           }
          ],
          "scatter3d": [
           {
            "line": {
             "colorbar": {
              "outlinewidth": 0,
              "ticks": ""
             }
            },
            "marker": {
             "colorbar": {
              "outlinewidth": 0,
              "ticks": ""
             }
            },
            "type": "scatter3d"
           }
          ],
          "scattercarpet": [
           {
            "marker": {
             "colorbar": {
              "outlinewidth": 0,
              "ticks": ""
             }
            },
            "type": "scattercarpet"
           }
          ],
          "scattergeo": [
           {
            "marker": {
             "colorbar": {
              "outlinewidth": 0,
              "ticks": ""
             }
            },
            "type": "scattergeo"
           }
          ],
          "scattergl": [
           {
            "marker": {
             "colorbar": {
              "outlinewidth": 0,
              "ticks": ""
             }
            },
            "type": "scattergl"
           }
          ],
          "scattermapbox": [
           {
            "marker": {
             "colorbar": {
              "outlinewidth": 0,
              "ticks": ""
             }
            },
            "type": "scattermapbox"
           }
          ],
          "scatterpolar": [
           {
            "marker": {
             "colorbar": {
              "outlinewidth": 0,
              "ticks": ""
             }
            },
            "type": "scatterpolar"
           }
          ],
          "scatterpolargl": [
           {
            "marker": {
             "colorbar": {
              "outlinewidth": 0,
              "ticks": ""
             }
            },
            "type": "scatterpolargl"
           }
          ],
          "scatterternary": [
           {
            "marker": {
             "colorbar": {
              "outlinewidth": 0,
              "ticks": ""
             }
            },
            "type": "scatterternary"
           }
          ],
          "surface": [
           {
            "colorbar": {
             "outlinewidth": 0,
             "ticks": ""
            },
            "colorscale": [
             [
              0,
              "#0d0887"
             ],
             [
              0.1111111111111111,
              "#46039f"
             ],
             [
              0.2222222222222222,
              "#7201a8"
             ],
             [
              0.3333333333333333,
              "#9c179e"
             ],
             [
              0.4444444444444444,
              "#bd3786"
             ],
             [
              0.5555555555555556,
              "#d8576b"
             ],
             [
              0.6666666666666666,
              "#ed7953"
             ],
             [
              0.7777777777777778,
              "#fb9f3a"
             ],
             [
              0.8888888888888888,
              "#fdca26"
             ],
             [
              1,
              "#f0f921"
             ]
            ],
            "type": "surface"
           }
          ],
          "table": [
           {
            "cells": {
             "fill": {
              "color": "#EBF0F8"
             },
             "line": {
              "color": "white"
             }
            },
            "header": {
             "fill": {
              "color": "#C8D4E3"
             },
             "line": {
              "color": "white"
             }
            },
            "type": "table"
           }
          ]
         },
         "layout": {
          "annotationdefaults": {
           "arrowcolor": "#2a3f5f",
           "arrowhead": 0,
           "arrowwidth": 1
          },
          "autotypenumbers": "strict",
          "coloraxis": {
           "colorbar": {
            "outlinewidth": 0,
            "ticks": ""
           }
          },
          "colorscale": {
           "diverging": [
            [
             0,
             "#8e0152"
            ],
            [
             0.1,
             "#c51b7d"
            ],
            [
             0.2,
             "#de77ae"
            ],
            [
             0.3,
             "#f1b6da"
            ],
            [
             0.4,
             "#fde0ef"
            ],
            [
             0.5,
             "#f7f7f7"
            ],
            [
             0.6,
             "#e6f5d0"
            ],
            [
             0.7,
             "#b8e186"
            ],
            [
             0.8,
             "#7fbc41"
            ],
            [
             0.9,
             "#4d9221"
            ],
            [
             1,
             "#276419"
            ]
           ],
           "sequential": [
            [
             0,
             "#0d0887"
            ],
            [
             0.1111111111111111,
             "#46039f"
            ],
            [
             0.2222222222222222,
             "#7201a8"
            ],
            [
             0.3333333333333333,
             "#9c179e"
            ],
            [
             0.4444444444444444,
             "#bd3786"
            ],
            [
             0.5555555555555556,
             "#d8576b"
            ],
            [
             0.6666666666666666,
             "#ed7953"
            ],
            [
             0.7777777777777778,
             "#fb9f3a"
            ],
            [
             0.8888888888888888,
             "#fdca26"
            ],
            [
             1,
             "#f0f921"
            ]
           ],
           "sequentialminus": [
            [
             0,
             "#0d0887"
            ],
            [
             0.1111111111111111,
             "#46039f"
            ],
            [
             0.2222222222222222,
             "#7201a8"
            ],
            [
             0.3333333333333333,
             "#9c179e"
            ],
            [
             0.4444444444444444,
             "#bd3786"
            ],
            [
             0.5555555555555556,
             "#d8576b"
            ],
            [
             0.6666666666666666,
             "#ed7953"
            ],
            [
             0.7777777777777778,
             "#fb9f3a"
            ],
            [
             0.8888888888888888,
             "#fdca26"
            ],
            [
             1,
             "#f0f921"
            ]
           ]
          },
          "colorway": [
           "#636efa",
           "#EF553B",
           "#00cc96",
           "#ab63fa",
           "#FFA15A",
           "#19d3f3",
           "#FF6692",
           "#B6E880",
           "#FF97FF",
           "#FECB52"
          ],
          "font": {
           "color": "#2a3f5f"
          },
          "geo": {
           "bgcolor": "white",
           "lakecolor": "white",
           "landcolor": "#E5ECF6",
           "showlakes": true,
           "showland": true,
           "subunitcolor": "white"
          },
          "hoverlabel": {
           "align": "left"
          },
          "hovermode": "closest",
          "mapbox": {
           "style": "light"
          },
          "paper_bgcolor": "white",
          "plot_bgcolor": "#E5ECF6",
          "polar": {
           "angularaxis": {
            "gridcolor": "white",
            "linecolor": "white",
            "ticks": ""
           },
           "bgcolor": "#E5ECF6",
           "radialaxis": {
            "gridcolor": "white",
            "linecolor": "white",
            "ticks": ""
           }
          },
          "scene": {
           "xaxis": {
            "backgroundcolor": "#E5ECF6",
            "gridcolor": "white",
            "gridwidth": 2,
            "linecolor": "white",
            "showbackground": true,
            "ticks": "",
            "zerolinecolor": "white"
           },
           "yaxis": {
            "backgroundcolor": "#E5ECF6",
            "gridcolor": "white",
            "gridwidth": 2,
            "linecolor": "white",
            "showbackground": true,
            "ticks": "",
            "zerolinecolor": "white"
           },
           "zaxis": {
            "backgroundcolor": "#E5ECF6",
            "gridcolor": "white",
            "gridwidth": 2,
            "linecolor": "white",
            "showbackground": true,
            "ticks": "",
            "zerolinecolor": "white"
           }
          },
          "shapedefaults": {
           "line": {
            "color": "#2a3f5f"
           }
          },
          "ternary": {
           "aaxis": {
            "gridcolor": "white",
            "linecolor": "white",
            "ticks": ""
           },
           "baxis": {
            "gridcolor": "white",
            "linecolor": "white",
            "ticks": ""
           },
           "bgcolor": "#E5ECF6",
           "caxis": {
            "gridcolor": "white",
            "linecolor": "white",
            "ticks": ""
           }
          },
          "title": {
           "x": 0.05
          },
          "xaxis": {
           "automargin": true,
           "gridcolor": "white",
           "linecolor": "white",
           "ticks": "",
           "title": {
            "standoff": 15
           },
           "zerolinecolor": "white",
           "zerolinewidth": 2
          },
          "yaxis": {
           "automargin": true,
           "gridcolor": "white",
           "linecolor": "white",
           "ticks": "",
           "title": {
            "standoff": 15
           },
           "zerolinecolor": "white",
           "zerolinewidth": 2
          }
         }
        },
        "title": {
         "text": "Time Span of Datasets"
        },
        "xaxis": {
         "rangeselector": {
          "buttons": [
           {
            "count": 7,
            "label": "1w",
            "step": "day",
            "stepmode": "backward"
           },
           {
            "count": 1,
            "label": "1m",
            "step": "month",
            "stepmode": "backward"
           },
           {
            "count": 6,
            "label": "6m",
            "step": "month",
            "stepmode": "backward"
           },
           {
            "count": 1,
            "label": "YTD",
            "step": "year",
            "stepmode": "todate"
           },
           {
            "count": 1,
            "label": "1y",
            "step": "year",
            "stepmode": "backward"
           },
           {
            "step": "all"
           }
          ]
         },
         "showgrid": false,
         "type": "date",
         "zeroline": false
        },
        "yaxis": {
         "autorange": false,
         "range": [
          -1,
          5
         ],
         "showgrid": false,
         "ticktext": [
          "CTD",
          "Winkler",
          "Ossigeno",
          "Conducibilita"
         ],
         "tickvals": [
          0,
          1,
          2,
          3
         ],
         "zeroline": false
        }
       }
      },
      "text/html": [
       "<div>                            <div id=\"46777162-9a50-402a-8a13-a6a59dc025ca\" class=\"plotly-graph-div\" style=\"height:600px; width:100%;\"></div>            <script type=\"text/javascript\">                require([\"plotly\"], function(Plotly) {                    window.PLOTLYENV=window.PLOTLYENV || {};                                    if (document.getElementById(\"46777162-9a50-402a-8a13-a6a59dc025ca\")) {                    Plotly.newPlot(                        \"46777162-9a50-402a-8a13-a6a59dc025ca\",                        [{\"fill\": \"toself\", \"fillcolor\": \"rgb(214, 39, 40)\", \"hoverinfo\": \"name\", \"legendgroup\": \"rgb(214, 39, 40)\", \"mode\": \"none\", \"name\": \"Conducibilita\", \"type\": \"scatter\", \"x\": [\"2021-10-22\", \"2022-03-31\", \"2022-03-31\", \"2021-10-22\"], \"y\": [2.8, 2.8, 3.2, 3.2]}, {\"fill\": \"toself\", \"fillcolor\": \"rgb(255, 127, 14)\", \"hoverinfo\": \"name\", \"legendgroup\": \"rgb(255, 127, 14)\", \"mode\": \"none\", \"name\": \"Winkler\", \"type\": \"scatter\", \"x\": [\"2021-11-10\", \"2022-03-30\", \"2022-03-30\", \"2021-11-10\"], \"y\": [0.8, 0.8, 1.2, 1.2]}, {\"fill\": \"toself\", \"fillcolor\": \"rgb(31, 119, 180)\", \"hoverinfo\": \"name\", \"legendgroup\": \"rgb(31, 119, 180)\", \"mode\": \"none\", \"name\": \"CTD\", \"type\": \"scatter\", \"x\": [\"2021-03-25\", \"2022-03-30\", \"2022-03-30\", \"2021-03-25\"], \"y\": [-0.2, -0.2, 0.2, 0.2]}, {\"fill\": \"toself\", \"fillcolor\": \"rgb(44, 160, 44)\", \"hoverinfo\": \"name\", \"legendgroup\": \"rgb(44, 160, 44)\", \"mode\": \"none\", \"name\": \"Ossigeno\", \"type\": \"scatter\", \"x\": [\"2021-10-06\", \"2022-03-31\", \"2022-03-31\", \"2021-10-06\"], \"y\": [1.8, 1.8, 2.2, 2.2]}, {\"legendgroup\": \"rgb(214, 39, 40)\", \"marker\": {\"color\": \"rgb(214, 39, 40)\", \"opacity\": 0, \"size\": 1}, \"mode\": \"markers\", \"name\": \"\", \"showlegend\": false, \"text\": [null, null], \"type\": \"scatter\", \"x\": [\"2021-10-22\", \"2022-03-31\"], \"y\": [3, 3]}, {\"legendgroup\": \"rgb(255, 127, 14)\", \"marker\": {\"color\": \"rgb(255, 127, 14)\", \"opacity\": 0, \"size\": 1}, \"mode\": \"markers\", \"name\": \"\", \"showlegend\": false, \"text\": [null, null], \"type\": \"scatter\", \"x\": [\"2021-11-10\", \"2022-03-30\"], \"y\": [1, 1]}, {\"legendgroup\": \"rgb(31, 119, 180)\", \"marker\": {\"color\": \"rgb(31, 119, 180)\", \"opacity\": 0, \"size\": 1}, \"mode\": \"markers\", \"name\": \"\", \"showlegend\": false, \"text\": [null, null], \"type\": \"scatter\", \"x\": [\"2021-03-25\", \"2022-03-30\"], \"y\": [0, 0]}, {\"legendgroup\": \"rgb(44, 160, 44)\", \"marker\": {\"color\": \"rgb(44, 160, 44)\", \"opacity\": 0, \"size\": 1}, \"mode\": \"markers\", \"name\": \"\", \"showlegend\": false, \"text\": [null, null], \"type\": \"scatter\", \"x\": [\"2021-10-06\", \"2022-03-31\"], \"y\": [2, 2]}],                        {\"height\": 600, \"hovermode\": \"closest\", \"showlegend\": false, \"template\": {\"data\": {\"bar\": [{\"error_x\": {\"color\": \"#2a3f5f\"}, \"error_y\": {\"color\": \"#2a3f5f\"}, \"marker\": {\"line\": {\"color\": \"#E5ECF6\", \"width\": 0.5}}, \"type\": \"bar\"}], \"barpolar\": [{\"marker\": {\"line\": {\"color\": \"#E5ECF6\", \"width\": 0.5}}, \"type\": \"barpolar\"}], \"carpet\": [{\"aaxis\": {\"endlinecolor\": \"#2a3f5f\", \"gridcolor\": \"white\", \"linecolor\": \"white\", \"minorgridcolor\": \"white\", \"startlinecolor\": \"#2a3f5f\"}, \"baxis\": {\"endlinecolor\": \"#2a3f5f\", \"gridcolor\": \"white\", \"linecolor\": \"white\", \"minorgridcolor\": \"white\", \"startlinecolor\": \"#2a3f5f\"}, \"type\": \"carpet\"}], \"choropleth\": [{\"colorbar\": {\"outlinewidth\": 0, \"ticks\": \"\"}, \"type\": \"choropleth\"}], \"contour\": [{\"colorbar\": {\"outlinewidth\": 0, \"ticks\": \"\"}, \"colorscale\": [[0.0, \"#0d0887\"], [0.1111111111111111, \"#46039f\"], [0.2222222222222222, \"#7201a8\"], [0.3333333333333333, \"#9c179e\"], [0.4444444444444444, \"#bd3786\"], [0.5555555555555556, \"#d8576b\"], [0.6666666666666666, \"#ed7953\"], [0.7777777777777778, \"#fb9f3a\"], [0.8888888888888888, \"#fdca26\"], [1.0, \"#f0f921\"]], \"type\": \"contour\"}], \"contourcarpet\": [{\"colorbar\": {\"outlinewidth\": 0, \"ticks\": \"\"}, \"type\": \"contourcarpet\"}], \"heatmap\": [{\"colorbar\": {\"outlinewidth\": 0, \"ticks\": \"\"}, \"colorscale\": [[0.0, \"#0d0887\"], [0.1111111111111111, \"#46039f\"], [0.2222222222222222, \"#7201a8\"], [0.3333333333333333, \"#9c179e\"], [0.4444444444444444, \"#bd3786\"], [0.5555555555555556, \"#d8576b\"], [0.6666666666666666, \"#ed7953\"], [0.7777777777777778, \"#fb9f3a\"], [0.8888888888888888, \"#fdca26\"], [1.0, \"#f0f921\"]], \"type\": \"heatmap\"}], \"heatmapgl\": [{\"colorbar\": {\"outlinewidth\": 0, \"ticks\": \"\"}, \"colorscale\": [[0.0, \"#0d0887\"], [0.1111111111111111, \"#46039f\"], [0.2222222222222222, \"#7201a8\"], [0.3333333333333333, \"#9c179e\"], [0.4444444444444444, \"#bd3786\"], [0.5555555555555556, \"#d8576b\"], [0.6666666666666666, \"#ed7953\"], [0.7777777777777778, \"#fb9f3a\"], [0.8888888888888888, \"#fdca26\"], [1.0, \"#f0f921\"]], \"type\": \"heatmapgl\"}], \"histogram\": [{\"marker\": {\"colorbar\": {\"outlinewidth\": 0, \"ticks\": \"\"}}, \"type\": \"histogram\"}], \"histogram2d\": [{\"colorbar\": {\"outlinewidth\": 0, \"ticks\": \"\"}, \"colorscale\": [[0.0, \"#0d0887\"], [0.1111111111111111, \"#46039f\"], [0.2222222222222222, \"#7201a8\"], [0.3333333333333333, \"#9c179e\"], [0.4444444444444444, \"#bd3786\"], [0.5555555555555556, \"#d8576b\"], [0.6666666666666666, \"#ed7953\"], [0.7777777777777778, \"#fb9f3a\"], [0.8888888888888888, \"#fdca26\"], [1.0, \"#f0f921\"]], \"type\": \"histogram2d\"}], \"histogram2dcontour\": [{\"colorbar\": {\"outlinewidth\": 0, \"ticks\": \"\"}, \"colorscale\": [[0.0, \"#0d0887\"], [0.1111111111111111, \"#46039f\"], [0.2222222222222222, \"#7201a8\"], [0.3333333333333333, \"#9c179e\"], [0.4444444444444444, \"#bd3786\"], [0.5555555555555556, \"#d8576b\"], [0.6666666666666666, \"#ed7953\"], [0.7777777777777778, \"#fb9f3a\"], [0.8888888888888888, \"#fdca26\"], [1.0, \"#f0f921\"]], \"type\": \"histogram2dcontour\"}], \"mesh3d\": [{\"colorbar\": {\"outlinewidth\": 0, \"ticks\": \"\"}, \"type\": \"mesh3d\"}], \"parcoords\": [{\"line\": {\"colorbar\": {\"outlinewidth\": 0, \"ticks\": \"\"}}, \"type\": \"parcoords\"}], \"pie\": [{\"automargin\": true, \"type\": \"pie\"}], \"scatter\": [{\"marker\": {\"colorbar\": {\"outlinewidth\": 0, \"ticks\": \"\"}}, \"type\": \"scatter\"}], \"scatter3d\": [{\"line\": {\"colorbar\": {\"outlinewidth\": 0, \"ticks\": \"\"}}, \"marker\": {\"colorbar\": {\"outlinewidth\": 0, \"ticks\": \"\"}}, \"type\": \"scatter3d\"}], \"scattercarpet\": [{\"marker\": {\"colorbar\": {\"outlinewidth\": 0, \"ticks\": \"\"}}, \"type\": \"scattercarpet\"}], \"scattergeo\": [{\"marker\": {\"colorbar\": {\"outlinewidth\": 0, \"ticks\": \"\"}}, \"type\": \"scattergeo\"}], \"scattergl\": [{\"marker\": {\"colorbar\": {\"outlinewidth\": 0, \"ticks\": \"\"}}, \"type\": \"scattergl\"}], \"scattermapbox\": [{\"marker\": {\"colorbar\": {\"outlinewidth\": 0, \"ticks\": \"\"}}, \"type\": \"scattermapbox\"}], \"scatterpolar\": [{\"marker\": {\"colorbar\": {\"outlinewidth\": 0, \"ticks\": \"\"}}, \"type\": \"scatterpolar\"}], \"scatterpolargl\": [{\"marker\": {\"colorbar\": {\"outlinewidth\": 0, \"ticks\": \"\"}}, \"type\": \"scatterpolargl\"}], \"scatterternary\": [{\"marker\": {\"colorbar\": {\"outlinewidth\": 0, \"ticks\": \"\"}}, \"type\": \"scatterternary\"}], \"surface\": [{\"colorbar\": {\"outlinewidth\": 0, \"ticks\": \"\"}, \"colorscale\": [[0.0, \"#0d0887\"], [0.1111111111111111, \"#46039f\"], [0.2222222222222222, \"#7201a8\"], [0.3333333333333333, \"#9c179e\"], [0.4444444444444444, \"#bd3786\"], [0.5555555555555556, \"#d8576b\"], [0.6666666666666666, \"#ed7953\"], [0.7777777777777778, \"#fb9f3a\"], [0.8888888888888888, \"#fdca26\"], [1.0, \"#f0f921\"]], \"type\": \"surface\"}], \"table\": [{\"cells\": {\"fill\": {\"color\": \"#EBF0F8\"}, \"line\": {\"color\": \"white\"}}, \"header\": {\"fill\": {\"color\": \"#C8D4E3\"}, \"line\": {\"color\": \"white\"}}, \"type\": \"table\"}]}, \"layout\": {\"annotationdefaults\": {\"arrowcolor\": \"#2a3f5f\", \"arrowhead\": 0, \"arrowwidth\": 1}, \"autotypenumbers\": \"strict\", \"coloraxis\": {\"colorbar\": {\"outlinewidth\": 0, \"ticks\": \"\"}}, \"colorscale\": {\"diverging\": [[0, \"#8e0152\"], [0.1, \"#c51b7d\"], [0.2, \"#de77ae\"], [0.3, \"#f1b6da\"], [0.4, \"#fde0ef\"], [0.5, \"#f7f7f7\"], [0.6, \"#e6f5d0\"], [0.7, \"#b8e186\"], [0.8, \"#7fbc41\"], [0.9, \"#4d9221\"], [1, \"#276419\"]], \"sequential\": [[0.0, \"#0d0887\"], [0.1111111111111111, \"#46039f\"], [0.2222222222222222, \"#7201a8\"], [0.3333333333333333, \"#9c179e\"], [0.4444444444444444, \"#bd3786\"], [0.5555555555555556, \"#d8576b\"], [0.6666666666666666, \"#ed7953\"], [0.7777777777777778, \"#fb9f3a\"], [0.8888888888888888, \"#fdca26\"], [1.0, \"#f0f921\"]], \"sequentialminus\": [[0.0, \"#0d0887\"], [0.1111111111111111, \"#46039f\"], [0.2222222222222222, \"#7201a8\"], [0.3333333333333333, \"#9c179e\"], [0.4444444444444444, \"#bd3786\"], [0.5555555555555556, \"#d8576b\"], [0.6666666666666666, \"#ed7953\"], [0.7777777777777778, \"#fb9f3a\"], [0.8888888888888888, \"#fdca26\"], [1.0, \"#f0f921\"]]}, \"colorway\": [\"#636efa\", \"#EF553B\", \"#00cc96\", \"#ab63fa\", \"#FFA15A\", \"#19d3f3\", \"#FF6692\", \"#B6E880\", \"#FF97FF\", \"#FECB52\"], \"font\": {\"color\": \"#2a3f5f\"}, \"geo\": {\"bgcolor\": \"white\", \"lakecolor\": \"white\", \"landcolor\": \"#E5ECF6\", \"showlakes\": true, \"showland\": true, \"subunitcolor\": \"white\"}, \"hoverlabel\": {\"align\": \"left\"}, \"hovermode\": \"closest\", \"mapbox\": {\"style\": \"light\"}, \"paper_bgcolor\": \"white\", \"plot_bgcolor\": \"#E5ECF6\", \"polar\": {\"angularaxis\": {\"gridcolor\": \"white\", \"linecolor\": \"white\", \"ticks\": \"\"}, \"bgcolor\": \"#E5ECF6\", \"radialaxis\": {\"gridcolor\": \"white\", \"linecolor\": \"white\", \"ticks\": \"\"}}, \"scene\": {\"xaxis\": {\"backgroundcolor\": \"#E5ECF6\", \"gridcolor\": \"white\", \"gridwidth\": 2, \"linecolor\": \"white\", \"showbackground\": true, \"ticks\": \"\", \"zerolinecolor\": \"white\"}, \"yaxis\": {\"backgroundcolor\": \"#E5ECF6\", \"gridcolor\": \"white\", \"gridwidth\": 2, \"linecolor\": \"white\", \"showbackground\": true, \"ticks\": \"\", \"zerolinecolor\": \"white\"}, \"zaxis\": {\"backgroundcolor\": \"#E5ECF6\", \"gridcolor\": \"white\", \"gridwidth\": 2, \"linecolor\": \"white\", \"showbackground\": true, \"ticks\": \"\", \"zerolinecolor\": \"white\"}}, \"shapedefaults\": {\"line\": {\"color\": \"#2a3f5f\"}}, \"ternary\": {\"aaxis\": {\"gridcolor\": \"white\", \"linecolor\": \"white\", \"ticks\": \"\"}, \"baxis\": {\"gridcolor\": \"white\", \"linecolor\": \"white\", \"ticks\": \"\"}, \"bgcolor\": \"#E5ECF6\", \"caxis\": {\"gridcolor\": \"white\", \"linecolor\": \"white\", \"ticks\": \"\"}}, \"title\": {\"x\": 0.05}, \"xaxis\": {\"automargin\": true, \"gridcolor\": \"white\", \"linecolor\": \"white\", \"ticks\": \"\", \"title\": {\"standoff\": 15}, \"zerolinecolor\": \"white\", \"zerolinewidth\": 2}, \"yaxis\": {\"automargin\": true, \"gridcolor\": \"white\", \"linecolor\": \"white\", \"ticks\": \"\", \"title\": {\"standoff\": 15}, \"zerolinecolor\": \"white\", \"zerolinewidth\": 2}}}, \"title\": {\"text\": \"Time Span of Datasets\"}, \"xaxis\": {\"rangeselector\": {\"buttons\": [{\"count\": 7, \"label\": \"1w\", \"step\": \"day\", \"stepmode\": \"backward\"}, {\"count\": 1, \"label\": \"1m\", \"step\": \"month\", \"stepmode\": \"backward\"}, {\"count\": 6, \"label\": \"6m\", \"step\": \"month\", \"stepmode\": \"backward\"}, {\"count\": 1, \"label\": \"YTD\", \"step\": \"year\", \"stepmode\": \"todate\"}, {\"count\": 1, \"label\": \"1y\", \"step\": \"year\", \"stepmode\": \"backward\"}, {\"step\": \"all\"}]}, \"showgrid\": false, \"type\": \"date\", \"zeroline\": false}, \"yaxis\": {\"autorange\": false, \"range\": [-1, 5], \"showgrid\": false, \"ticktext\": [\"CTD\", \"Winkler\", \"Ossigeno\", \"Conducibilita\"], \"tickvals\": [0, 1, 2, 3], \"zeroline\": false}},                        {\"responsive\": true}                    ).then(function(){\n",
       "                            \n",
       "var gd = document.getElementById('46777162-9a50-402a-8a13-a6a59dc025ca');\n",
       "var x = new MutationObserver(function (mutations, observer) {{\n",
       "        var display = window.getComputedStyle(gd).display;\n",
       "        if (!display || display === 'none') {{\n",
       "            console.log([gd, 'removed!']);\n",
       "            Plotly.purge(gd);\n",
       "            observer.disconnect();\n",
       "        }}\n",
       "}});\n",
       "\n",
       "// Listen for the removal of the full notebook cells\n",
       "var notebookContainer = gd.closest('#notebook-container');\n",
       "if (notebookContainer) {{\n",
       "    x.observe(notebookContainer, {childList: true});\n",
       "}}\n",
       "\n",
       "// Listen for the clearing of the current output cell\n",
       "var outputEl = gd.closest('.output');\n",
       "if (outputEl) {{\n",
       "    x.observe(outputEl, {childList: true});\n",
       "}}\n",
       "\n",
       "                        })                };                });            </script>        </div>"
      ]
     },
     "metadata": {},
     "output_type": "display_data"
    }
   ],
   "source": [
    "df = [dict(Task=\"CTD\", Start=CTD_raw_df[\"Data_CTD\"].min().strftime(format=\"%Y-%m-%d\"), Finish=CTD_raw_df[\"Data_CTD\"].max().strftime(format=\"%Y-%m-%d\")),\n",
    "      dict(Task=\"Winkler\", Start=Winkler_raw_df[\"Data_Winkler\"].min().strftime(format=\"%Y-%m-%d\"), Finish=Winkler_raw_df[\"Data_Winkler\"].max().strftime(format=\"%Y-%m-%d\")),\n",
    "      dict(Task=\"Ossigeno\", Start=Ossigeno_raw_df[\"Data_Ossigeno\"].min().strftime(format=\"%Y-%m-%d\"), Finish=Ossigeno_raw_df[\"Data_Ossigeno\"].max().strftime(format=\"%Y-%m-%d\")),\n",
    "      dict(Task=\"Conducibilita\", Start=Conducibilita_raw_df[\"Data_Conducibilita\"].min().strftime(format=\"%Y-%m-%d\"), Finish=Conducibilita_raw_df[\"Data_Conducibilita\"].max().strftime(format=\"%Y-%m-%d\"))]\n",
    "fig = create_gantt(df, title=\"Time Span of Datasets\")\n",
    "fig.show()"
   ]
  },
  {
   "cell_type": "markdown",
   "metadata": {},
   "source": [
    "### Sample Rate by Day (not uniform)"
   ]
  },
  {
   "cell_type": "code",
   "execution_count": 23,
   "metadata": {},
   "outputs": [
    {
     "name": "stderr",
     "output_type": "stream",
     "text": [
      "/home/3068020/.conda/envs/Syrto/lib/python3.8/site-packages/seaborn/_decorators.py:36: FutureWarning:\n",
      "\n",
      "Pass the following variable as a keyword arg: x. From version 0.12, the only valid positional argument will be `data`, and passing other arguments without an explicit keyword will result in an error or misinterpretation.\n",
      "\n"
     ]
    },
    {
     "data": {
      "image/png": "[encoded data removed]",
      "text/plain": [
       "<Figure size 1080x576 with 1 Axes>"
      ]
     },
     "metadata": {
      "needs_background": "light"
     },
     "output_type": "display_data"
    }
   ],
   "source": [
    "plt.figure(figsize=(15,8))\n",
    "ax = sns.countplot(CTD_raw_df[\"Data_CTD\"])\n",
    "ax.set(title=\"CTD Sample Rate\")\n",
    "ax.xaxis.set_tick_params(rotation=45)"
   ]
  },
  {
   "cell_type": "code",
   "execution_count": 24,
   "metadata": {},
   "outputs": [
    {
     "name": "stderr",
     "output_type": "stream",
     "text": [
      "/home/3068020/.conda/envs/Syrto/lib/python3.8/site-packages/seaborn/_decorators.py:36: FutureWarning:\n",
      "\n",
      "Pass the following variable as a keyword arg: x. From version 0.12, the only valid positional argument will be `data`, and passing other arguments without an explicit keyword will result in an error or misinterpretation.\n",
      "\n"
     ]
    },
    {
     "data": {
      "image/png": "[encoded data removed]",
      "text/plain": [
       "<Figure size 1080x576 with 1 Axes>"
      ]
     },
     "metadata": {
      "needs_background": "light"
     },
     "output_type": "display_data"
    }
   ],
   "source": [
    "plt.figure(figsize=(15,8))\n",
    "ax = sns.countplot(Conducibilita_raw_df[\"Data_Conducibilita\"])\n",
    "ax.set(title=\"Conducibilita Sample Rate\")\n",
    "ax.xaxis.set_tick_params(rotation=45)"
   ]
  },
  {
   "cell_type": "code",
   "execution_count": 25,
   "metadata": {},
   "outputs": [
    {
     "name": "stderr",
     "output_type": "stream",
     "text": [
      "/home/3068020/.conda/envs/Syrto/lib/python3.8/site-packages/seaborn/_decorators.py:36: FutureWarning:\n",
      "\n",
      "Pass the following variable as a keyword arg: x. From version 0.12, the only valid positional argument will be `data`, and passing other arguments without an explicit keyword will result in an error or misinterpretation.\n",
      "\n"
     ]
    },
    {
     "data": {
      "image/png": "[encoded data removed]",
      "text/plain": [
       "<Figure size 1080x576 with 1 Axes>"
      ]
     },
     "metadata": {
      "needs_background": "light"
     },
     "output_type": "display_data"
    }
   ],
   "source": [
    "plt.figure(figsize=(15,8))\n",
    "ax = sns.countplot(Winkler_raw_df[\"Data_Winkler\"])\n",
    "ax.set(title=\"Winkler Sample Rate\")\n",
    "ax.xaxis.set_tick_params(rotation=45)\n"
   ]
  },
  {
   "cell_type": "code",
   "execution_count": 26,
   "metadata": {},
   "outputs": [
    {
     "name": "stderr",
     "output_type": "stream",
     "text": [
      "/home/3068020/.conda/envs/Syrto/lib/python3.8/site-packages/seaborn/_decorators.py:36: FutureWarning:\n",
      "\n",
      "Pass the following variable as a keyword arg: x. From version 0.12, the only valid positional argument will be `data`, and passing other arguments without an explicit keyword will result in an error or misinterpretation.\n",
      "\n"
     ]
    },
    {
     "data": {
      "image/png": "[encoded data removed]",
      "text/plain": [
       "<Figure size 2160x1080 with 1 Axes>"
      ]
     },
     "metadata": {
      "needs_background": "light"
     },
     "output_type": "display_data"
    }
   ],
   "source": [
    "plt.figure(figsize=(30, 15))\n",
    "ax = sns.countplot(Ossigeno_raw_df[\"Data_Ossigeno\"])\n",
    "ax.set(title=\"Ossigeno Sample Rate\")\n",
    "ax.xaxis.set_tick_params(rotation=90)"
   ]
  },
  {
   "cell_type": "markdown",
   "metadata": {},
   "source": [
    "### Join Data"
   ]
  },
  {
   "cell_type": "markdown",
   "metadata": {},
   "source": [
    "### Join Data"
   ]
  },
  {
   "cell_type": "code",
   "execution_count": 28,
   "metadata": {},
   "outputs": [],
   "source": [
    "################### Join ###################\n",
    "\n",
    "\n",
    "joint_avg_df = (CTD_raw_df.merge(Conducibilita_raw_df, how=\"left\", left_on=\"Data_CTD\", right_on=\"Data_Conducibilita\").groupby(\"Data_CTD\").mean().reset_index()\n",
    "           .merge(Ossigeno_raw_df, how=\"left\", left_on=\"Data_CTD\", right_on=\"Data_Ossigeno\").groupby(\"Data_CTD\").mean().reset_index()\n",
    "           .merge(Winkler_raw_df, how=\"left\", left_on=\"Data_CTD\", right_on=\"Data_Winkler\").groupby(\"Data_CTD\").mean())\n",
    "\n",
    "def merge_minDiff(CTD_raw_df, incoming):\n",
    "    incoming_df = eval(incoming+\"_raw_df\")\n",
    "    temp_df = CTD_raw_df.merge(incoming_df, how=\"left\", left_on=\"Data_CTD\", right_on=\"Data_\" + incoming)\n",
    "    temp_df[\"Time_diff\"] = (temp_df[\"Time_CTD\"] - temp_df[\"Time_\" + incoming]).abs()\n",
    "    temp2_df = temp_df.groupby(\"Data_CTD\")[\"Time_diff\"].min().reset_index()\n",
    "    temp3_df = temp_df.merge(temp2_df, how=\"right\", on=[\"Data_CTD\", \"Time_diff\"])\n",
    "\n",
    "    return temp3_df\n",
    "    \n",
    "incomings_ls = [\"Conducibilita\", \"Ossigeno\", \"Winkler\"]\n",
    "joint_min_df = CTD_raw_df\n",
    "\n",
    "for incoming in incomings_ls:\n",
    "    joint_min_df = merge_minDiff(joint_min_df, incoming)\n"
   ]
  },
  {
   "cell_type": "code",
   "execution_count": 34,
   "metadata": {},
   "outputs": [],
   "source": [
    "joint_df = (CTD_raw_df.merge(Conducibilita_raw_df, how=\"left\", left_on=\"Data_CTD\", right_on=\"Data_Conducibilita\")\n",
    "           .merge(Ossigeno_raw_df, how=\"left\", left_on=\"Data_CTD\", right_on=\"Data_Ossigeno\")\n",
    "           .merge(Winkler_raw_df, how=\"left\", left_on=\"Data_CTD\", right_on=\"Data_Winkler\"))"
   ]
  },
  {
   "cell_type": "markdown",
   "metadata": {},
   "source": [
    "### Preliminary Analysis"
   ]
  },
  {
   "cell_type": "markdown",
   "metadata": {},
   "source": [
    "At 30/03/2022, CTD is probed at depth 0.681, while Conductivity is measured at other depths. A predicted uncertainties at depth 0.681 has to be computed to decide the snesor functionality."
   ]
  },
  {
   "cell_type": "code",
   "execution_count": 51,
   "metadata": {},
   "outputs": [
    {
     "data": {
      "text/plain": [
       "datetime.date(2022, 3, 30)"
      ]
     },
     "execution_count": 51,
     "metadata": {},
     "output_type": "execute_result"
    }
   ],
   "source": [
    "temp_dt = datetime.date(2022, 3, 30)\n",
    "temp_dt"
   ]
  },
  {
   "cell_type": "code",
   "execution_count": 52,
   "metadata": {},
   "outputs": [
    {
     "data": {
      "text/plain": [
       "array([0.681], dtype=float32)"
      ]
     },
     "execution_count": 52,
     "metadata": {},
     "output_type": "execute_result"
    }
   ],
   "source": [
    "joint_df[joint_df[\"Data_CTD\"] == temp_dt][\"Profondita'(m)_CTD\"].unique()"
   ]
  },
  {
   "cell_type": "code",
   "execution_count": 53,
   "metadata": {},
   "outputs": [
    {
     "data": {
      "text/plain": [
       "array([1.091, 1.081, 1.051, 1.061, 1.071, 1.023, 1.013, 1.042, 1.033,\n",
       "       1.003, 0.983, 0.993, 0.973, 0.963, 0.953, 0.943], dtype=float32)"
      ]
     },
     "execution_count": 53,
     "metadata": {},
     "output_type": "execute_result"
    }
   ],
   "source": [
    "joint_df[joint_df[\"Data_CTD\"] == temp_dt][\"Profondita'(m)_Conducibilita\"].unique()"
   ]
  },
  {
   "cell_type": "code",
   "execution_count": null,
   "metadata": {},
   "outputs": [],
   "source": [
    "# sns.lineplot(joint_avg_df.index, joint_avg_df[\"Conducibilita'(mS/cm)_CTD\"] - joint_avg_df[\"Conducibilita'(mS/cm)_Conducibilita\"]).set(ylabel=\"Diff Conducibilita\", title=\"CTD - Conducibilita by average\")\n",
    "\n",
    "# sns.lineplot(joint_avg_df.index, joint_avg_df[\"Conducibilita'(mS/cm)_CTD\"] - joint_avg_df[\"Conducibilita'(mS/cm)_Conducibilita\"]).set(ylabel=\"Diff Conducibilita\", title=\"CTD - Conducibilita by average\")"
   ]
  }
 ],
 "metadata": {
  "interpreter": {
   "hash": "84b6d4315b8bb61cc250c2e3f426bb4b1e05a109646fa141c0b79c4076648ae7"
  },
  "kernelspec": {
   "display_name": "Python 3.8.10 ('Syrto')",
   "language": "python",
   "name": "python3"
  },
  "language_info": {
   "codemirror_mode": {
    "name": "ipython",
    "version": 3
   },
   "file_extension": ".py",
   "mimetype": "text/x-python",
   "name": "python",
   "nbconvert_exporter": "python",
   "pygments_lexer": "ipython3",
   "version": "3.8.10"
  },
  "orig_nbformat": 4
 },
 "nbformat": 4,
 "nbformat_minor": 2
}
